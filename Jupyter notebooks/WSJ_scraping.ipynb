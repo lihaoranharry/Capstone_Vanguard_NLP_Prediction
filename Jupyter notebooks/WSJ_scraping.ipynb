{
 "cells": [
  {
   "cell_type": "code",
   "execution_count": 1,
   "metadata": {
    "collapsed": true
   },
   "outputs": [],
   "source": [
    "# -*- coding: utf-8 -*-\n",
    "\"\"\"\n",
    "Created on Oct 20, 2018\n",
    "by olahosa\n",
    "\n",
    "based on jasonweinreb's WSJ scrapper: \n",
    "https://github.com/jweinreb/python-wsj/blob/master/wsj-parser.py\n",
    "\"\"\"\n",
    "\n",
    "import pandas as pd\n",
    "import numpy as np\n",
    "import datetime, re, glob, csv\n",
    "\n",
    "from selenium import webdriver\n",
    "from selenium.webdriver.common.keys import Keys\n",
    "from selenium.common.exceptions import NoSuchElementException\n",
    "from selenium.webdriver.common.by import By\n",
    "from selenium.webdriver.support.ui import WebDriverWait\n",
    "from selenium.webdriver.support import expected_conditions as EC"
   ]
  },
  {
   "cell_type": "code",
   "execution_count": 2,
   "metadata": {
    "collapsed": true
   },
   "outputs": [],
   "source": [
    "# Enter company name here and the time period of interest\n",
    "\n",
    "comp_name = '\"Comcast\"'\n",
    "start_date = \"2018/08/01\"\n",
    "end_date = \"2018/10/10\"\n",
    "\n",
    "# login info (from you WSJ membership) - enter your info\n",
    "my_login = 'xxx@columbia.edu'\n",
    "my_password = 'password'"
   ]
  },
  {
   "cell_type": "markdown",
   "metadata": {},
   "source": [
    "# Get links to desired WSJ articles"
   ]
  },
  {
   "cell_type": "code",
   "execution_count": 3,
   "metadata": {
    "collapsed": true
   },
   "outputs": [],
   "source": [
    "def getPageUrl(elementLinks):\n",
    "    extractLinks = []\n",
    "    for element in elementLinks:\n",
    "        links = element.get_attribute('href')\n",
    "        extractLinks.append(links)\n",
    "    return(extractLinks)"
   ]
  },
  {
   "cell_type": "code",
   "execution_count": 4,
   "metadata": {
    "collapsed": true
   },
   "outputs": [],
   "source": [
    "# download 'geckodriver' and provide path to it here\n",
    "browser = webdriver.Firefox(executable_path = '/Users/ola/Desktop/CAP/geckodriver')\n",
    "\n",
    "# loading home url for WSJ\n",
    "browser.get('http://markets.wsj.com/?mod=Homecle_MDW_MDC')\n",
    "\n",
    "# ## login Credentials\n",
    "# login = browser.find_element_by_link_text(\"Log In\").click()\n",
    "# loginID = browser.find_element_by_id(\"username\").send_keys(my_login)\n",
    "# loginPass = browser.find_element_by_id(\"password\").send_keys(my_password)\n",
    "# loginReady = browser.find_element_by_class_name(\"solid-button\")\n",
    "# loginReady.submit()\n",
    "\n",
    "# search for company name\n",
    "WebDriverWait(browser, 10).until(\n",
    "        EC.presence_of_element_located((By.ID, \"globalHatSearchInput\")))\n",
    "\n",
    "search_box = browser.find_element_by_id(\"globalHatSearchInput\")\n",
    "search_box.clear()\n",
    "search_box.send_keys(comp_name) # Input search keyword\n",
    "WebDriverWait(browser, 5)\n",
    "search_req = browser.find_element_by_css_selector('.button-search').click()"
   ]
  },
  {
   "cell_type": "code",
   "execution_count": 5,
   "metadata": {
    "collapsed": true
   },
   "outputs": [],
   "source": [
    "# DO MANUALLY - in firefox window close cookie policy popup\n",
    "## Close cookie policy if needed\n",
    "# try:\n",
    "#     browser.find_element_by_class_name(\"close\").click()\n",
    "# except NoSuchElementException:\n",
    "#     print('Cookie agreement already acknowledged')"
   ]
  },
  {
   "cell_type": "code",
   "execution_count": 7,
   "metadata": {},
   "outputs": [],
   "source": [
    "# enter advanced search and enter desider time period\n",
    "toggleMenu = browser.find_element_by_link_text(\"ADVANCED SEARCH\")\n",
    "toggleMenu.click()\n",
    "menuOptions = browser.find_element_by_class_name('datePeriod')\n",
    "browser.find_element_by_name(\"sfrom\").send_keys(start_date)\n",
    "browser.find_element_by_name(\"sto\").send_keys(end_date)"
   ]
  },
  {
   "cell_type": "code",
   "execution_count": 8,
   "metadata": {
    "collapsed": true
   },
   "outputs": [],
   "source": [
    "# restrict search to articles whose subject is the company\n",
    "browser.find_element_by_id('metadata').send_keys(comp_name)"
   ]
  },
  {
   "cell_type": "code",
   "execution_count": 9,
   "metadata": {
    "collapsed": true
   },
   "outputs": [],
   "source": [
    "# restrict search to articles only (exclude videos, blogs, etc)\n",
    "browser.execute_script(\"window.scrollTo(0, 500)\")\n",
    "browser.find_element_by_link_text(\"WSJ Blogs\").click()\n",
    "browser.find_element_by_link_text(\"WSJ Videos\").click()\n",
    "browser.find_element_by_link_text(\"WSJ Site Search\").click()"
   ]
  },
  {
   "cell_type": "code",
   "execution_count": 10,
   "metadata": {
    "collapsed": true
   },
   "outputs": [],
   "source": [
    "# execute search button\n",
    "browser.execute_script(\"window.scrollTo(0, 0)\")\n",
    "searchArchive = browser.find_element_by_class_name('keywordSearchBar')\n",
    "searchArchive.find_element_by_class_name(\"searchButton\").click()"
   ]
  },
  {
   "cell_type": "code",
   "execution_count": 11,
   "metadata": {},
   "outputs": [
    {
     "name": "stdout",
     "output_type": "stream",
     "text": [
      "1\n"
     ]
    }
   ],
   "source": [
    "# get page count or results and number results count\n",
    "pageCount = browser.find_elements_by_class_name(\"results-count\")[1].text\n",
    "pageCount = int(re.sub(r'of ', '', pageCount))\n",
    "resultCount = browser.find_elements_by_class_name(\"results-count\")[0].text\n",
    "resultCount = int(resultCount.rpartition(\"of \")[2])\n",
    "\n",
    "print(pageCount)"
   ]
  },
  {
   "cell_type": "code",
   "execution_count": 12,
   "metadata": {},
   "outputs": [
    {
     "name": "stdout",
     "output_type": "stream",
     "text": [
      "done with page 1 of 1\n"
     ]
    }
   ],
   "source": [
    "## extract all article urls\n",
    "articleLinks = []\n",
    "\n",
    "for j in range(0, pageCount):\n",
    "    elementLinks = browser.find_elements_by_xpath('//h3[@class=\"headline\"]/a')\n",
    "    links = getPageUrl(elementLinks)\n",
    "    articleLinks.append(links)\n",
    "    print('done with page ' + str(j+1) + ' of ' + str(pageCount))\n",
    "    try:\n",
    "        browser.find_element_by_class_name(\"next-page\").click()\n",
    "    except NoSuchElementException:\n",
    "        pass"
   ]
  },
  {
   "cell_type": "code",
   "execution_count": 13,
   "metadata": {
    "collapsed": true
   },
   "outputs": [],
   "source": [
    "articleLinks = [y for x in articleLinks for y in x]"
   ]
  },
  {
   "cell_type": "code",
   "execution_count": 14,
   "metadata": {
    "collapsed": true
   },
   "outputs": [],
   "source": [
    "# write list of urls to a csv file for later use:\n",
    "\n",
    "out_file = comp_name.strip('\"').replace(\" \", \"\")+\"_\"+start_date.replace(\"/\", \"\")+\"_\"+end_date.replace(\"/\", \"\")+\"_urls.csv\"\n",
    "\n",
    "with open(out_file, \"w\") as csvfile:\n",
    "    writer = csv.writer(csvfile, delimiter= \",\")\n",
    "    hdr = ['articleLink']\n",
    "    writer.writerow(hdr)\n",
    "    for link in articleLinks:\n",
    "        entry = [link] \n",
    "        writer.writerow(entry)\n",
    "        \n",
    "df = pd.read_csv(out_file)"
   ]
  },
  {
   "cell_type": "markdown",
   "metadata": {},
   "source": [
    "# Download desired articles"
   ]
  },
  {
   "cell_type": "code",
   "execution_count": 15,
   "metadata": {
    "collapsed": true
   },
   "outputs": [],
   "source": [
    "# open WSJ homepage and log in (adjust path to geckodriver)\n",
    "browser = webdriver.Firefox(executable_path = '/Users/ola/Desktop/CAP/geckodriver')\n",
    "browser.get('http://www.wsj.com')\n",
    "\n",
    "# DO MANUALLY - close cookie policy popup\n",
    "# browser.find_element_by_class_name(\"close\").click()\n",
    "# browser.find_element_by_class_name(\"cs-close\").click()\n",
    "# browser.find_element_by_xpath('//div[contains(@class,\"ui-dialog\") and @aria-describedby=\"dialogContent2\"]//button[@title=\"Close\"]').click()\n",
    "# alrt = browser.switch_to.alert"
   ]
  },
  {
   "cell_type": "code",
   "execution_count": 16,
   "metadata": {
    "collapsed": true
   },
   "outputs": [],
   "source": [
    "login = browser.find_element_by_link_text(\"Sign In\").click()\n",
    "loginID = browser.find_element_by_id(\"username\").send_keys(my_login)\n",
    "loginPass = browser.find_element_by_id(\"password\").send_keys(my_password)\n",
    "loginReady = browser.find_element_by_class_name(\"solid-button\")\n",
    "loginReady.submit()"
   ]
  },
  {
   "cell_type": "code",
   "execution_count": 17,
   "metadata": {},
   "outputs": [
    {
     "name": "stdout",
     "output_type": "stream",
     "text": [
      "15\n"
     ]
    }
   ],
   "source": [
    "# how many articles to save?\n",
    "print(len(articleLinks))"
   ]
  },
  {
   "cell_type": "code",
   "execution_count": 18,
   "metadata": {},
   "outputs": [
    {
     "name": "stdout",
     "output_type": "stream",
     "text": [
      "0, Stocks to Watch: Amazon, GE, Facebook, Target, Ford, UPS, Home Depot, JPMorgan, Comcast\n",
      "1, Comcast’s Revenge: Never Sell Hulu\n",
      "2, Disney Gets $15 Billion to Invest in Streaming\n",
      "3, 21st Century Fox to Sell Sky Stake to Comcast\n",
      "4, Comcast Shares Slide After Regulators Accept Sky Bid\n",
      "5, Robert Greenblatt, Chairman of NBC Entertainment, to Step Down\n",
      "6, Stocks to Watch: Comcast, Disney, Pandora, Newmont, Dell, Chipotle, Michael Kors, Nordstrom, Chevron\n",
      "7, For Comcast, the Next Test on Sky Is Convincing Investors\n",
      "8, Sky Takeover Proves a Dream Trade for Hedge Funds\n",
      "9, Sky Loss Is a Disappointment for Disney Ambitions\n",
      "10, Game Theory Part of the Art of the Sky Deal\n",
      "11, Comcast, Fox to Settle $35 Billion Takeover Battle for Sky in Weekend Auction\n",
      "12, Winning Sky Is Just the Start for Disney or Comcast\n",
      "13, Fox, Comcast Fight for Sky Could End in Sealed Bids\n",
      "14, Fox, Comcast Reach New Deal on Big Ten Network\n"
     ]
    }
   ],
   "source": [
    "# save atricles as a dictionary\n",
    "articles = {}\n",
    "article_count = 0\n",
    "\n",
    "for i, link in enumerate(df.articleLink):\n",
    "    print(i, end=', ')\n",
    "    \n",
    "    browser.get(link)\n",
    "    \n",
    "    # get headline if it exists (otherwise empty) \n",
    "    try:\n",
    "        headline = browser.find_element_by_class_name(\"wsj-article-headline\").text\n",
    "    except NoSuchElementException:\n",
    "        print(str(i) + ' : no headline')\n",
    "        headline = link\n",
    "        \n",
    "    print(headline)\n",
    "    \n",
    "    # enter article headline into dictionary\n",
    "    articles[i] = {}\n",
    "    articles[i]['headline'] = headline\n",
    "    \n",
    "    # get timestamp if it exists (otherwise empty)\n",
    "    try:\n",
    "        timestamp = browser.find_element_by_class_name(\"timestamp\").text\n",
    "    except NoSuchElementException:\n",
    "        print(str(i) + ' : no time stamp')\n",
    "        timestamp = ''\n",
    "    \n",
    "    # clean time stamp if it exists \n",
    "    timestamp = re.sub(r'Updated ', '', timestamp)\n",
    "    timestamp = re.sub(r' ET', '', timestamp)\n",
    "    timestamp = re.sub(r'p.m.', 'PM', timestamp)\n",
    "    timestamp = re.sub(r'a.m.', 'AM', timestamp)\n",
    "    if 'Sept.' in timestamp:\n",
    "        timestamp = re.sub(r'Sept.', 'Sep.', timestamp)\n",
    "    if \"COMMENTS\" in timestamp:\n",
    "        timestamp = timestamp.split(\"\\n\")[0]\n",
    "    if 'AM' in timestamp or 'PM' in timestamp:\n",
    "        try:\n",
    "            timestamp = datetime.datetime.strptime(timestamp, '%b. %d, %Y %I:%M %p')\n",
    "        except ValueError:\n",
    "            timestamp = datetime.datetime.strptime(timestamp, '%B %d, %Y %I:%M %p')\n",
    "    else:\n",
    "        try:\n",
    "            timestamp = datetime.datetime.strptime(timestamp, '%B %d, %Y')\n",
    "        except ValueError:\n",
    "            timestamp = datetime.datetime.strptime(timestamp, '%b. %d, %Y')\n",
    "    \n",
    "    # put timestamp and link into Article dictionary \n",
    "    articles[i][\"date\"] = timestamp\n",
    "    articles[i][\"link\"] = link\n",
    "        \n",
    "    # extract article text\n",
    "    try:\n",
    "        paragraphs = browser.find_element_by_class_name(\"article-wrap\").text\n",
    "    except NoSuchElementException:\n",
    "        paragraphs = ''\n",
    "    articles[i][\"text\"] = paragraphs\n",
    "    \n",
    "    try:\n",
    "        sub_head = browser.find_element_by_class_name(\"sub-head\").text\n",
    "    except NoSuchElementException:\n",
    "        sub_head = ''\n",
    "    articles[i][\"sub-head\"] = sub_head\n",
    "            \n",
    "    article_count += 1     "
   ]
  },
  {
   "cell_type": "code",
   "execution_count": 19,
   "metadata": {},
   "outputs": [
    {
     "data": {
      "text/plain": [
       "15"
      ]
     },
     "execution_count": 19,
     "metadata": {},
     "output_type": "execute_result"
    }
   ],
   "source": [
    "# how many articles downloaded?\n",
    "len(articles)"
   ]
  },
  {
   "cell_type": "code",
   "execution_count": 20,
   "metadata": {},
   "outputs": [
    {
     "data": {
      "text/html": [
       "<div>\n",
       "<style>\n",
       "    .dataframe thead tr:only-child th {\n",
       "        text-align: right;\n",
       "    }\n",
       "\n",
       "    .dataframe thead th {\n",
       "        text-align: left;\n",
       "    }\n",
       "\n",
       "    .dataframe tbody tr th {\n",
       "        vertical-align: top;\n",
       "    }\n",
       "</style>\n",
       "<table border=\"1\" class=\"dataframe\">\n",
       "  <thead>\n",
       "    <tr style=\"text-align: right;\">\n",
       "      <th></th>\n",
       "      <th>index</th>\n",
       "      <th>headline</th>\n",
       "      <th>date</th>\n",
       "      <th>link</th>\n",
       "      <th>text</th>\n",
       "      <th>sub-head</th>\n",
       "    </tr>\n",
       "  </thead>\n",
       "  <tbody>\n",
       "    <tr>\n",
       "      <th>0</th>\n",
       "      <td>14</td>\n",
       "      <td>Fox, Comcast Reach New Deal on Big Ten Network</td>\n",
       "      <td>2018-08-24 19:18:00</td>\n",
       "      <td>http://online.wsj.com/articles/fox-comcast-rea...</td>\n",
       "      <td>Maryland wide receiver Taivon Jacobs speaks du...</td>\n",
       "      <td>Renewal agreement averts a full blackout of th...</td>\n",
       "    </tr>\n",
       "    <tr>\n",
       "      <th>1</th>\n",
       "      <td>13</td>\n",
       "      <td>Fox, Comcast Fight for Sky Could End in Sealed...</td>\n",
       "      <td>2018-09-16 12:00:00</td>\n",
       "      <td>http://online.wsj.com/articles/bidding-war-for...</td>\n",
       "      <td>British broadcasting giant Sky is one of the b...</td>\n",
       "      <td>U.K. takeover rules could require a blind auct...</td>\n",
       "    </tr>\n",
       "    <tr>\n",
       "      <th>2</th>\n",
       "      <td>12</td>\n",
       "      <td>Winning Sky Is Just the Start for Disney or Co...</td>\n",
       "      <td>2018-09-20 10:24:00</td>\n",
       "      <td>http://online.wsj.com/articles/winning-sky-is-...</td>\n",
       "      <td>2 COMMENTS\\nBy Stephen Wilmot\\nSept. 20, 2018 ...</td>\n",
       "      <td>Whoever buys the European pay-TV leader faces ...</td>\n",
       "    </tr>\n",
       "    <tr>\n",
       "      <th>3</th>\n",
       "      <td>11</td>\n",
       "      <td>Comcast, Fox to Settle $35 Billion Takeover Ba...</td>\n",
       "      <td>2018-09-20 19:27:00</td>\n",
       "      <td>http://online.wsj.com/articles/comcast-fox-to-...</td>\n",
       "      <td>Sky has attracted takeover interest from some ...</td>\n",
       "      <td>The regulator hasn’t run such a process many t...</td>\n",
       "    </tr>\n",
       "    <tr>\n",
       "      <th>4</th>\n",
       "      <td>10</td>\n",
       "      <td>Game Theory Part of the Art of the Sky Deal</td>\n",
       "      <td>2018-09-21 05:30:00</td>\n",
       "      <td>http://online.wsj.com/articles/blind-auction-c...</td>\n",
       "      <td>Sky sells wireless, TV and internet services t...</td>\n",
       "      <td>Comcast, Disney and Fox could use the same tac...</td>\n",
       "    </tr>\n",
       "    <tr>\n",
       "      <th>5</th>\n",
       "      <td>9</td>\n",
       "      <td>Sky Loss Is a Disappointment for Disney Ambitions</td>\n",
       "      <td>2018-09-22 15:45:00</td>\n",
       "      <td>http://online.wsj.com/articles/sky-loss-is-a-d...</td>\n",
       "      <td>Robert Iger’s tenure at Disney has been marked...</td>\n",
       "      <td>Disney must now continue strategy of controlli...</td>\n",
       "    </tr>\n",
       "    <tr>\n",
       "      <th>6</th>\n",
       "      <td>8</td>\n",
       "      <td>Sky Takeover Proves a Dream Trade for Hedge Funds</td>\n",
       "      <td>2018-09-23 07:37:00</td>\n",
       "      <td>http://online.wsj.com/articles/sky-takeover-pr...</td>\n",
       "      <td>Several hedge funds have reaped huge profits f...</td>\n",
       "      <td>The U.K. broadcaster had been on investors’ ra...</td>\n",
       "    </tr>\n",
       "    <tr>\n",
       "      <th>7</th>\n",
       "      <td>7</td>\n",
       "      <td>For Comcast, the Next Test on Sky Is Convincin...</td>\n",
       "      <td>2018-09-23 19:27:00</td>\n",
       "      <td>http://online.wsj.com/articles/comcast-wins-bi...</td>\n",
       "      <td>Manchester City’s Raheem Sterling, right, vies...</td>\n",
       "      <td>Winning $38.8 billion bid in U.K. auction ends...</td>\n",
       "    </tr>\n",
       "    <tr>\n",
       "      <th>8</th>\n",
       "      <td>6</td>\n",
       "      <td>Stocks to Watch: Comcast, Disney, Pandora, New...</td>\n",
       "      <td>2018-09-24 09:23:00</td>\n",
       "      <td>http://online.wsj.com/articles/stocks-to-watch...</td>\n",
       "      <td>Nordstrom shares dropped 7.9% last week, their...</td>\n",
       "      <td>Here are some of the companies with shares exp...</td>\n",
       "    </tr>\n",
       "    <tr>\n",
       "      <th>9</th>\n",
       "      <td>5</td>\n",
       "      <td>Robert Greenblatt, Chairman of NBC Entertainme...</td>\n",
       "      <td>2018-09-24 13:00:00</td>\n",
       "      <td>http://online.wsj.com/articles/robert-greenbla...</td>\n",
       "      <td>Chairman of NBC Entertainment Robert Greenblat...</td>\n",
       "      <td>Executive who led prime-time revival with ‘Thi...</td>\n",
       "    </tr>\n",
       "    <tr>\n",
       "      <th>10</th>\n",
       "      <td>4</td>\n",
       "      <td>Comcast Shares Slide After Regulators Accept S...</td>\n",
       "      <td>2018-09-24 13:18:00</td>\n",
       "      <td>http://online.wsj.com/articles/comcast-shares-...</td>\n",
       "      <td>Comcast Center in Philadelphia. Shares of Comc...</td>\n",
       "      <td>Cable company topped 21st Century Fox with a $...</td>\n",
       "    </tr>\n",
       "    <tr>\n",
       "      <th>11</th>\n",
       "      <td>3</td>\n",
       "      <td>21st Century Fox to Sell Sky Stake to Comcast</td>\n",
       "      <td>2018-09-26 10:57:00</td>\n",
       "      <td>http://online.wsj.com/articles/21st-century-fo...</td>\n",
       "      <td>Comcast’s winning bid for Sky values the Europ...</td>\n",
       "      <td>After losing out on the auction for the Europe...</td>\n",
       "    </tr>\n",
       "    <tr>\n",
       "      <th>12</th>\n",
       "      <td>2</td>\n",
       "      <td>Disney Gets $15 Billion to Invest in Streaming</td>\n",
       "      <td>2018-09-26 12:59:00</td>\n",
       "      <td>http://online.wsj.com/articles/disney-gets-15-...</td>\n",
       "      <td>Walt Disney on Wednesday consented to Fox’s de...</td>\n",
       "      <td>Disney investors can be relieved that 21st Cen...</td>\n",
       "    </tr>\n",
       "    <tr>\n",
       "      <th>13</th>\n",
       "      <td>1</td>\n",
       "      <td>Comcast’s Revenge: Never Sell Hulu</td>\n",
       "      <td>2018-10-07 10:00:00</td>\n",
       "      <td>http://online.wsj.com/articles/comcasts-reveng...</td>\n",
       "      <td>Comcast has good reasons to hold on to Hulu. P...</td>\n",
       "      <td>Selling its Hulu stake to Disney would help of...</td>\n",
       "    </tr>\n",
       "    <tr>\n",
       "      <th>14</th>\n",
       "      <td>0</td>\n",
       "      <td>Stocks to Watch: Amazon, GE, Facebook, Target,...</td>\n",
       "      <td>2018-10-08 09:24:00</td>\n",
       "      <td>http://online.wsj.com/articles/stocks-to-watch...</td>\n",
       "      <td>Higher bond yields push up borrowing costs for...</td>\n",
       "      <td>Here are some of the companies with shares exp...</td>\n",
       "    </tr>\n",
       "  </tbody>\n",
       "</table>\n",
       "</div>"
      ],
      "text/plain": [
       "    index                                           headline  \\\n",
       "0      14     Fox, Comcast Reach New Deal on Big Ten Network   \n",
       "1      13  Fox, Comcast Fight for Sky Could End in Sealed...   \n",
       "2      12  Winning Sky Is Just the Start for Disney or Co...   \n",
       "3      11  Comcast, Fox to Settle $35 Billion Takeover Ba...   \n",
       "4      10        Game Theory Part of the Art of the Sky Deal   \n",
       "5       9  Sky Loss Is a Disappointment for Disney Ambitions   \n",
       "6       8  Sky Takeover Proves a Dream Trade for Hedge Funds   \n",
       "7       7  For Comcast, the Next Test on Sky Is Convincin...   \n",
       "8       6  Stocks to Watch: Comcast, Disney, Pandora, New...   \n",
       "9       5  Robert Greenblatt, Chairman of NBC Entertainme...   \n",
       "10      4  Comcast Shares Slide After Regulators Accept S...   \n",
       "11      3      21st Century Fox to Sell Sky Stake to Comcast   \n",
       "12      2     Disney Gets $15 Billion to Invest in Streaming   \n",
       "13      1                 Comcast’s Revenge: Never Sell Hulu   \n",
       "14      0  Stocks to Watch: Amazon, GE, Facebook, Target,...   \n",
       "\n",
       "                  date                                               link  \\\n",
       "0  2018-08-24 19:18:00  http://online.wsj.com/articles/fox-comcast-rea...   \n",
       "1  2018-09-16 12:00:00  http://online.wsj.com/articles/bidding-war-for...   \n",
       "2  2018-09-20 10:24:00  http://online.wsj.com/articles/winning-sky-is-...   \n",
       "3  2018-09-20 19:27:00  http://online.wsj.com/articles/comcast-fox-to-...   \n",
       "4  2018-09-21 05:30:00  http://online.wsj.com/articles/blind-auction-c...   \n",
       "5  2018-09-22 15:45:00  http://online.wsj.com/articles/sky-loss-is-a-d...   \n",
       "6  2018-09-23 07:37:00  http://online.wsj.com/articles/sky-takeover-pr...   \n",
       "7  2018-09-23 19:27:00  http://online.wsj.com/articles/comcast-wins-bi...   \n",
       "8  2018-09-24 09:23:00  http://online.wsj.com/articles/stocks-to-watch...   \n",
       "9  2018-09-24 13:00:00  http://online.wsj.com/articles/robert-greenbla...   \n",
       "10 2018-09-24 13:18:00  http://online.wsj.com/articles/comcast-shares-...   \n",
       "11 2018-09-26 10:57:00  http://online.wsj.com/articles/21st-century-fo...   \n",
       "12 2018-09-26 12:59:00  http://online.wsj.com/articles/disney-gets-15-...   \n",
       "13 2018-10-07 10:00:00  http://online.wsj.com/articles/comcasts-reveng...   \n",
       "14 2018-10-08 09:24:00  http://online.wsj.com/articles/stocks-to-watch...   \n",
       "\n",
       "                                                 text  \\\n",
       "0   Maryland wide receiver Taivon Jacobs speaks du...   \n",
       "1   British broadcasting giant Sky is one of the b...   \n",
       "2   2 COMMENTS\\nBy Stephen Wilmot\\nSept. 20, 2018 ...   \n",
       "3   Sky has attracted takeover interest from some ...   \n",
       "4   Sky sells wireless, TV and internet services t...   \n",
       "5   Robert Iger’s tenure at Disney has been marked...   \n",
       "6   Several hedge funds have reaped huge profits f...   \n",
       "7   Manchester City’s Raheem Sterling, right, vies...   \n",
       "8   Nordstrom shares dropped 7.9% last week, their...   \n",
       "9   Chairman of NBC Entertainment Robert Greenblat...   \n",
       "10  Comcast Center in Philadelphia. Shares of Comc...   \n",
       "11  Comcast’s winning bid for Sky values the Europ...   \n",
       "12  Walt Disney on Wednesday consented to Fox’s de...   \n",
       "13  Comcast has good reasons to hold on to Hulu. P...   \n",
       "14  Higher bond yields push up borrowing costs for...   \n",
       "\n",
       "                                             sub-head  \n",
       "0   Renewal agreement averts a full blackout of th...  \n",
       "1   U.K. takeover rules could require a blind auct...  \n",
       "2   Whoever buys the European pay-TV leader faces ...  \n",
       "3   The regulator hasn’t run such a process many t...  \n",
       "4   Comcast, Disney and Fox could use the same tac...  \n",
       "5   Disney must now continue strategy of controlli...  \n",
       "6   The U.K. broadcaster had been on investors’ ra...  \n",
       "7   Winning $38.8 billion bid in U.K. auction ends...  \n",
       "8   Here are some of the companies with shares exp...  \n",
       "9   Executive who led prime-time revival with ‘Thi...  \n",
       "10  Cable company topped 21st Century Fox with a $...  \n",
       "11  After losing out on the auction for the Europe...  \n",
       "12  Disney investors can be relieved that 21st Cen...  \n",
       "13  Selling its Hulu stake to Disney would help of...  \n",
       "14  Here are some of the companies with shares exp...  "
      ]
     },
     "execution_count": 20,
     "metadata": {},
     "output_type": "execute_result"
    }
   ],
   "source": [
    "# save dictionary as pd dataframe\n",
    "df_art = pd.DataFrame.from_dict(articles, orient='index')\n",
    "df_art = df_art.sort_values(by='date')\n",
    "df_art.reset_index(inplace=True)\n",
    "df_art"
   ]
  },
  {
   "cell_type": "code",
   "execution_count": 21,
   "metadata": {
    "collapsed": true
   },
   "outputs": [],
   "source": [
    "# save dataframe to csv\n",
    "out_file2 = comp_name.strip('\"').replace(\" \", \"\")+\"_\"+start_date.replace(\"/\", \"\")+\"_\"+end_date.replace(\"/\", \"\")+\"_scraped.csv\"\n",
    "df_art.to_csv(out_file2)"
   ]
  },
  {
   "cell_type": "markdown",
   "metadata": {},
   "source": [
    "# Some checks"
   ]
  },
  {
   "cell_type": "code",
   "execution_count": 22,
   "metadata": {},
   "outputs": [
    {
     "name": "stdout",
     "output_type": "stream",
     "text": [
      "0 46 1453 107\n",
      "1 51 4679 104\n",
      "2 51 3668 96\n",
      "3 77 6082 106\n",
      "4 43 5890 130\n",
      "5 49 2812 170\n",
      "6 49 5057 121\n",
      "7 57 8209 110\n",
      "8 100 2776 89\n",
      "9 62 3996 92\n",
      "10 52 3233 62\n",
      "11 45 4374 101\n",
      "12 46 2057 88\n",
      "13 34 2468 117\n",
      "14 87 2554 89\n"
     ]
    }
   ],
   "source": [
    "# pring # characters (length) of all features\n",
    "for i in range(df_art.shape[0]):\n",
    "    print(i, len(df_art['headline'].iloc[i]), len(df_art.text.iloc[i]), len(str(df_art['sub-head'].iloc[i])))"
   ]
  },
  {
   "cell_type": "code",
   "execution_count": 23,
   "metadata": {},
   "outputs": [
    {
     "name": "stdout",
     "output_type": "stream",
     "text": [
      "Sky has attracted takeover interest from some of the world’s biggest media companies. PHOTO: OLI SCARFF/AGENCE FRANCE-PRESSE/GETTY IMAGES\n",
      "By Stu Woo and\n",
      "Ben Dummett\n",
      "Updated Sept. 20, 2018 7:27 p.m. ET\n",
      "LONDON— Comcast Corp. CMCSA 0.11% and 21st Century Fox Inc. FOX 0.22% will settle their takeover battle for Sky SKYAY 0.22% PLC in a weekend auction run by British regulators, setting up a dramatic climax to a 21-month sale process that has pitted some of the world’s biggest media giants against each other.\n",
      "The U.K. Takeover Panel, which polices deal making in the country, laid out rules for the auction on Thursday. It is a process the regulator hasn’t run many times previously—and never before with such a large company as the prize. London-listed Sky has a market value of some $36 billion.\n",
      "Such government-mandated auctions of big, publicly traded companies are rare. The Sky auction pits Rupert Murdoch’s 21st Century Fox, which already owns 39% of Sky, against Comcast. Walt Disney Co. DIS 2.34% has separately agreed to buy a big chunk of Fox, including its Sky stake, for $71 billion.\n",
      "That puts Disney Chief Executive Bob Iger and Mr. Murdoch on the same team, bidding against Comcast CEO Brian Roberts. Because Fox already owns a big stake in Sky, the Disney-Fox team has an interest in driving up the bidding, even if it doesn’t ultimately win. That would make the stake more valuable should it decide to sell it to Comcast.\n",
      "Who Gets Sky?\n",
      "Comcast, Disney and 21st Century Fox are all jostling for U.K. broadcaster Sky.\n",
      "Dec. 9, 2016\n",
      "Fox makes bid for 61% of Sky it doesn't already own\n",
      "Offers\n",
      "to buy\n",
      "Owns\n",
      "Dec. 14, 2017\n",
      "Walt Disney Co. agrees to buy 21st Century Fox assets, including 39% Sky stake\n",
      "61%\n",
      "39%\n",
      "Jan. 23, 2018\n",
      "British regulators say Fox ownership of all of Sky isn't in public interest, but leave door open for remedial moves\n",
      "Feb. 27, 2018\n",
      "Comcast offers to buy all of Sky\n",
      "Sept. 20, 2018\n",
      "After a series of bids and counterbids, U.K. regulators have set a Saturday auction between the two to seal Sky’s fate.\n",
      "Source: staff reports\n",
      "The three media companies have competed against each other—and made deals with each other—over years, as they each steered their respective companies and helped reshape the U.S. media industry. Fox and Comcast declined to comment. Representatives from Disney weren’t immediately available for comment.\n",
      "Mr. Murdoch has long sought to consolidate his holding in London-based Sky. Disney and Comcast see Sky as a way to expand internationally. The broadcaster also sells wireless, TV and internet services throughout Europe, and it is a media company that produces its own news, entertainment and sports programming.\n",
      "Mr. Murdoch and his family are major shareholders in Fox and News Corp, which owns The Wall Street Journal.\n",
      "Regulators resorted to an auction process after Fox, backed by Disney, and Comcast engaged in what was starting to look like an endless series of bids and counterbids for the broadcaster.\n",
      "The auction will start Friday evening and run through Saturday, and consist of a maximum three rounds of bidding. The winner will be announced shortly after the auction ends Saturday evening. If there is a third and final round, it will be conducted with sealed bids—secret, final offers made to the regulator.\n",
      "Fox first offered in December 2016 to buy the rest of Sky it didn’t already own for £10.75 ($14.27) a share. After Fox’s merger proposal hit regulatory and political delays, Comcast made a surprise offer last February, for £12.50 a share.\n",
      "Comcast made the most recent offer in July, for £14.75 ($19.57) a share, valuing Sky at $34 billion. That is above Fox’s current bid, also made in July, of £14 a share.\n",
      "Investors have long expected higher offers. Sky’s shares were flat Thursday, closing at £15.80. The two sides could also increase their bids before the auction, or drop out before it starts, though there is little incentive to do so.\n",
      "Under the auction rules, only Fox can bid in the first round. In the second round, Comcast can counterbid. If that doesn’t determine a winner, each side can submit sealed-bid offers in the third and final round. The sides can also make a conditional bid. That is a bid that counts only if the other side also makes a bid.\n",
      "British regulators most recently held a takeover auction in 2008, when Wisconsin-based Manitowoc Co. beat Illinois Tool Works Inc. with a $2.7 billion bid for British food-equipment manufacturer Enodis. In that case, the panel and companies agreed to disclose only the winning bid.\n",
      "In 2007, India’s Tata Steel Ltd. and Brazil’s Companhia Siderúrgica Nacional agreed to as many as nine, rapid-fire bidding rounds, in their duel to acquire Anglo-Dutch steelmaker Corus Group PLC. After an auction that went late into the following morning, Tata won with a bid of £6.08 a share, or £6.2 billion. CSN bid £6.03 a share.\n",
      "Also called blind auctions, sealed-bid auctions are common for selling real estate, professional-athletes rights and cellular airwaves. In cellular-airwave auctions, wireless carriers hire game-theory experts to help them figure out the value of the airwaves they want and a strategy for winning the bidding, said Steve Blythe, whose job is to oversee such auctions for French wireless operator Orange SA.\n",
      "Disney, Fox and the Entire Media Merger Frenzy Explained\n",
      "From AT&T and Time Warner to the hot pursuit of 21st Century Fox and Sky, media mergers are in full swing. Why now? WSJ's Amol Sharma answers all your questions about the forces driving media deals.\n",
      "Often, part of the calculus is trying to ensure that even if a bids fail, rivals spend as much as possible, said Mr. Blythe, who has participated in about a dozen auctions.\n",
      "In a sealed-bid auction with only two contestants, only the last round really matters, he said. Early-round bids could contain useful information— or be bluffs—but “it’s what happens in the last round that matters,” he said.\n",
      "Write to Stu Woo at Stu.Woo@wsj.com and Ben Dummett at ben.dummett@wsj.com\n",
      "Appeared in the September 21, 2018, print edition as 'Auction to Settle Sky Takeover Battle.'\n"
     ]
    }
   ],
   "source": [
    "df_try = pd.read_csv('Comcast_20180801_20181010_scraped.csv')\n",
    "print(df_try.text.iloc[3])"
   ]
  },
  {
   "cell_type": "code",
   "execution_count": 24,
   "metadata": {},
   "outputs": [
    {
     "data": {
      "text/plain": [
       "0     2018-08-24 19:18:00\n",
       "1     2018-09-16 12:00:00\n",
       "2     2018-09-20 10:24:00\n",
       "3     2018-09-20 19:27:00\n",
       "4     2018-09-21 05:30:00\n",
       "5     2018-09-22 15:45:00\n",
       "6     2018-09-23 07:37:00\n",
       "7     2018-09-23 19:27:00\n",
       "8     2018-09-24 09:23:00\n",
       "9     2018-09-24 13:00:00\n",
       "10    2018-09-24 13:18:00\n",
       "11    2018-09-26 10:57:00\n",
       "12    2018-09-26 12:59:00\n",
       "13    2018-10-07 10:00:00\n",
       "14    2018-10-08 09:24:00\n",
       "Name: date, dtype: object"
      ]
     },
     "execution_count": 24,
     "metadata": {},
     "output_type": "execute_result"
    }
   ],
   "source": [
    "df_try.date"
   ]
  },
  {
   "cell_type": "code",
   "execution_count": 25,
   "metadata": {},
   "outputs": [
    {
     "name": "stdout",
     "output_type": "stream",
     "text": [
      "Comcast_20180801_20181010_scraped.csv\n",
      "2018-08-24 19:18:00 2018-10-08 09:24:00 15\n",
      "\n"
     ]
    }
   ],
   "source": [
    "for f in glob.glob('*_scraped.csv'):\n",
    "    print(f)\n",
    "    df = pd.read_csv(f)\n",
    "    print(min(df.date), max(df.date), df.shape[0])\n",
    "    print()"
   ]
  },
  {
   "cell_type": "code",
   "execution_count": null,
   "metadata": {
    "collapsed": true
   },
   "outputs": [],
   "source": []
  }
 ],
 "metadata": {
  "kernelspec": {
   "display_name": "Python 3",
   "language": "python",
   "name": "python3"
  },
  "language_info": {
   "codemirror_mode": {
    "name": "ipython",
    "version": 3
   },
   "file_extension": ".py",
   "mimetype": "text/x-python",
   "name": "python",
   "nbconvert_exporter": "python",
   "pygments_lexer": "ipython3",
   "version": "3.6.3"
  }
 },
 "nbformat": 4,
 "nbformat_minor": 2
}
