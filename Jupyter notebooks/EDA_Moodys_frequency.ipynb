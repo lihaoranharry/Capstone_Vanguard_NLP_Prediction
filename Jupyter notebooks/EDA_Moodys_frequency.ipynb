{
 "cells": [
  {
   "cell_type": "code",
   "execution_count": 1,
   "metadata": {},
   "outputs": [],
   "source": [
    "import pandas as pd\n",
    "import numpy as np\n",
    "\n",
    "import matplotlib.pylab as plt\n",
    "%matplotlib inline\n",
    "\n",
    "import seaborn as sns\n",
    "\n",
    "import glob"
   ]
  },
  {
   "cell_type": "markdown",
   "metadata": {},
   "source": [
    "# Data\n",
    "\n",
    "## SEC"
   ]
  },
  {
   "cell_type": "code",
   "execution_count": 2,
   "metadata": {},
   "outputs": [],
   "source": [
    "# Sec filings metadata\n",
    "sec_dict = dict()\n",
    "\n",
    "# read in dfs of links to SEC filings for all 5 companies\n",
    "for file in glob.glob('columbiaDSCap_sec_files_2018_rev100218/*csv'):\n",
    "    df = pd.read_csv(file)\n",
    "    \n",
    "    df.findexdate = pd.to_datetime(df.findexdate)\n",
    "    \n",
    "    if 'comcast' in file:\n",
    "        sec_dict['Comcast'] = df\n",
    "    if 'cbs' in file:\n",
    "        sec_dict['CBS'] = df\n",
    "    if 'att' in file:\n",
    "        sec_dict['AT&T'] = df\n",
    "    if 'fox' in file:\n",
    "        sec_dict['21st-Century-Fox'] = df\n",
    "    if 'verizon' in file:\n",
    "        sec_dict['Verizon'] = df"
   ]
  },
  {
   "cell_type": "markdown",
   "metadata": {},
   "source": [
    "## Moody's"
   ]
  },
  {
   "cell_type": "code",
   "execution_count": 3,
   "metadata": {},
   "outputs": [
    {
     "name": "stdout",
     "output_type": "stream",
     "text": [
      "(72, 5)\n"
     ]
    },
    {
     "data": {
      "text/html": [
       "<div>\n",
       "<style scoped>\n",
       "    .dataframe tbody tr th:only-of-type {\n",
       "        vertical-align: middle;\n",
       "    }\n",
       "\n",
       "    .dataframe tbody tr th {\n",
       "        vertical-align: top;\n",
       "    }\n",
       "\n",
       "    .dataframe thead th {\n",
       "        text-align: right;\n",
       "    }\n",
       "</style>\n",
       "<table border=\"1\" class=\"dataframe\">\n",
       "  <thead>\n",
       "    <tr style=\"text-align: right;\">\n",
       "      <th></th>\n",
       "      <th>Company</th>\n",
       "      <th>Moody's Rating</th>\n",
       "      <th>Watch</th>\n",
       "      <th>Type</th>\n",
       "      <th>Effective Date</th>\n",
       "    </tr>\n",
       "  </thead>\n",
       "  <tbody>\n",
       "    <tr>\n",
       "      <th>0</th>\n",
       "      <td>21st Century Fox America</td>\n",
       "      <td>B1</td>\n",
       "      <td>NaN</td>\n",
       "      <td>up</td>\n",
       "      <td>1991-11-27</td>\n",
       "    </tr>\n",
       "    <tr>\n",
       "      <th>1</th>\n",
       "      <td>21st Century Fox America</td>\n",
       "      <td>Ba2</td>\n",
       "      <td>NaN</td>\n",
       "      <td>up</td>\n",
       "      <td>1992-10-09</td>\n",
       "    </tr>\n",
       "    <tr>\n",
       "      <th>2</th>\n",
       "      <td>21st Century Fox America</td>\n",
       "      <td>Ba1</td>\n",
       "      <td>NaN</td>\n",
       "      <td>up</td>\n",
       "      <td>1993-10-14</td>\n",
       "    </tr>\n",
       "    <tr>\n",
       "      <th>3</th>\n",
       "      <td>21st Century Fox America</td>\n",
       "      <td>Baa3</td>\n",
       "      <td>NaN</td>\n",
       "      <td>up</td>\n",
       "      <td>1996-10-01</td>\n",
       "    </tr>\n",
       "    <tr>\n",
       "      <th>4</th>\n",
       "      <td>21st Century Fox America</td>\n",
       "      <td>Baa3</td>\n",
       "      <td>+</td>\n",
       "      <td>up</td>\n",
       "      <td>2004-04-26</td>\n",
       "    </tr>\n",
       "  </tbody>\n",
       "</table>\n",
       "</div>"
      ],
      "text/plain": [
       "                    Company Moody's Rating Watch Type Effective Date\n",
       "0  21st Century Fox America             B1   NaN   up     1991-11-27\n",
       "1  21st Century Fox America            Ba2   NaN   up     1992-10-09\n",
       "2  21st Century Fox America            Ba1   NaN   up     1993-10-14\n",
       "3  21st Century Fox America           Baa3   NaN   up     1996-10-01\n",
       "4  21st Century Fox America           Baa3     +   up     2004-04-26"
      ]
     },
     "execution_count": 3,
     "metadata": {},
     "output_type": "execute_result"
    }
   ],
   "source": [
    "# Moody ratings from Eunice (Bloomberg)\n",
    "df_moody = pd.read_excel('EDA_data/Columbia DSIC 2018 - Moody\\'s data.xlsx')\n",
    "df_moody = df_moody.sort_values(by=['Company', 'Effective Date'])\n",
    "df_moody = df_moody.reset_index()\n",
    "df_moody = df_moody.drop(['index'], axis=1)\n",
    "\n",
    "print(df_moody.shape)\n",
    "df_moody.head()"
   ]
  },
  {
   "cell_type": "code",
   "execution_count": 4,
   "metadata": {},
   "outputs": [
    {
     "data": {
      "text/plain": [
       "{'21st Century Fox America': '21st-Century-Fox',\n",
       " 'AT&T Corp': 'AT&T',\n",
       " 'CBS Corp': 'CBS',\n",
       " 'Comcast Corp': 'Comcast',\n",
       " 'Verizon Communications Inc': 'Verizon'}"
      ]
     },
     "execution_count": 4,
     "metadata": {},
     "output_type": "execute_result"
    }
   ],
   "source": [
    "# make a map from company names in SEC data to company names in Moody's data\n",
    "\n",
    "name_map = dict(zip(df_moody.Company.unique(), list(sorted(sec_dict.keys()))))\n",
    "name_map"
   ]
  },
  {
   "cell_type": "markdown",
   "metadata": {},
   "source": [
    "# Processing\n",
    "\n",
    "## Get 'no change' records"
   ]
  },
  {
   "cell_type": "code",
   "execution_count": 5,
   "metadata": {},
   "outputs": [
    {
     "name": "stdout",
     "output_type": "stream",
     "text": [
      "4, 5, 6, 8, 10, 11, 12, 19, 23, 25, 28, 29, 30, 31, 32, 34, 36, 41, 43, 45, 47, 51, 53, 56, 57, 59, 62, 63, 66, 69, 70, "
     ]
    },
    {
     "data": {
      "text/plain": [
       "(72, 6)"
      ]
     },
     "execution_count": 5,
     "metadata": {},
     "output_type": "execute_result"
    }
   ],
   "source": [
    "# get a list of repeated Moody's rating announcement (i.e. no change)\n",
    "# create a new column with the new Moody's type\n",
    "\n",
    "prev_comp = 'dummy'\n",
    "prev_rating = 'dummy'\n",
    "\n",
    "to_remove = []\n",
    "my_type = []\n",
    "\n",
    "for i in df_moody.index:\n",
    "    comp = df_moody['Company'].iloc[i]\n",
    "    rating = df_moody['Moody\\'s Rating'].iloc[i]\n",
    "\n",
    "    # if date is not changed put 'same' in new type column\n",
    "    if (comp == prev_comp) & (rating == prev_rating):\n",
    "        to_remove.append(i)\n",
    "        print(i, end=', ')\n",
    "        my_type.append('same')\n",
    "    # put 'WR' for the only case of 'WR' rating\n",
    "    elif df_moody['Moody\\'s Rating'].iloc[i] == 'WR':\n",
    "        my_type.append('WR')\n",
    "    # else copy what's already in 'Type' column\n",
    "    else:\n",
    "        my_type.append(df_moody['Type'].iloc[i])\n",
    "    \n",
    "    prev_comp = comp\n",
    "    prev_rating = rating\n",
    "    \n",
    "df_moody['my_type'] = my_type\n",
    "df_moody.shape"
   ]
  },
  {
   "cell_type": "code",
   "execution_count": 6,
   "metadata": {},
   "outputs": [],
   "source": [
    "# # remove repeated and reset index\n",
    "\n",
    "# df_moody_co = df_moody.drop(df_moody.index[to_remove])\n",
    "# df_moody_co = df_moody_co.reset_index()\n",
    "# df_moody_co = df_moody_co.drop(['index'], axis=1)\n",
    "# df_moody_co.head()"
   ]
  },
  {
   "cell_type": "markdown",
   "metadata": {},
   "source": [
    "## Calc intervals"
   ]
  },
  {
   "cell_type": "code",
   "execution_count": 7,
   "metadata": {},
   "outputs": [
    {
     "data": {
      "text/plain": [
       "(72, 7)"
      ]
     },
     "execution_count": 7,
     "metadata": {},
     "output_type": "execute_result"
    }
   ],
   "source": [
    "# calc the time period between consecutive Moody's changes\n",
    "\n",
    "df_moody['Effective Date'] = pd.to_datetime(df_moody['Effective Date'])\n",
    "df_moody['delta'] = (df_moody['Effective Date']-df_moody['Effective Date'].shift()).fillna(-1000)\n",
    "df_moody.shape"
   ]
  },
  {
   "cell_type": "markdown",
   "metadata": {},
   "source": [
    "## Get 'too early' records"
   ]
  },
  {
   "cell_type": "code",
   "execution_count": 8,
   "metadata": {},
   "outputs": [
    {
     "data": {
      "text/plain": [
       "[0, 1, 2, 3, 4, 13, 14, 15, 16, 17, 49, 50, 51, 52, 53, 54, 64, 65]"
      ]
     },
     "execution_count": 8,
     "metadata": {},
     "output_type": "execute_result"
    }
   ],
   "source": [
    "# get a list of Moody's rating announcement that came before \n",
    "# the earliest date in SEC dataset for each company\n",
    "# and should therefore be excluded from model\n",
    "\n",
    "too_early = []\n",
    "\n",
    "for i in df_moody.index:\n",
    "    company = df_moody['Company'].iloc[i]\n",
    "    date = df_moody['Effective Date'].iloc[i]\n",
    "    \n",
    "    min_sec_date = min(sec_dict[name_map[company]].findexdate)\n",
    "    \n",
    "    if date < min_sec_date:\n",
    "        too_early.append(i)\n",
    "        \n",
    "#         print(company, date, min_sec_date, name_map[company])\n",
    "        \n",
    "too_early"
   ]
  },
  {
   "cell_type": "markdown",
   "metadata": {},
   "source": [
    "## Filter\n",
    "\n",
    "### Remove 'too-early' and 'WR'"
   ]
  },
  {
   "cell_type": "code",
   "execution_count": 9,
   "metadata": {},
   "outputs": [
    {
     "name": "stdout",
     "output_type": "stream",
     "text": [
      "(53, 7)\n"
     ]
    },
    {
     "data": {
      "text/html": [
       "<div>\n",
       "<style scoped>\n",
       "    .dataframe tbody tr th:only-of-type {\n",
       "        vertical-align: middle;\n",
       "    }\n",
       "\n",
       "    .dataframe tbody tr th {\n",
       "        vertical-align: top;\n",
       "    }\n",
       "\n",
       "    .dataframe thead th {\n",
       "        text-align: right;\n",
       "    }\n",
       "</style>\n",
       "<table border=\"1\" class=\"dataframe\">\n",
       "  <thead>\n",
       "    <tr style=\"text-align: right;\">\n",
       "      <th></th>\n",
       "      <th>Company</th>\n",
       "      <th>Moody's Rating</th>\n",
       "      <th>Watch</th>\n",
       "      <th>Type</th>\n",
       "      <th>Effective Date</th>\n",
       "      <th>my_type</th>\n",
       "      <th>delta</th>\n",
       "    </tr>\n",
       "  </thead>\n",
       "  <tbody>\n",
       "    <tr>\n",
       "      <th>0</th>\n",
       "      <td>21st Century Fox America</td>\n",
       "      <td>Baa3</td>\n",
       "      <td>-</td>\n",
       "      <td>down</td>\n",
       "      <td>2005-01-25</td>\n",
       "      <td>same</td>\n",
       "      <td>274 days</td>\n",
       "    </tr>\n",
       "    <tr>\n",
       "      <th>1</th>\n",
       "      <td>21st Century Fox America</td>\n",
       "      <td>Baa3</td>\n",
       "      <td>+</td>\n",
       "      <td>up</td>\n",
       "      <td>2005-09-22</td>\n",
       "      <td>same</td>\n",
       "      <td>240 days</td>\n",
       "    </tr>\n",
       "    <tr>\n",
       "      <th>2</th>\n",
       "      <td>21st Century Fox America</td>\n",
       "      <td>Baa2</td>\n",
       "      <td>NaN</td>\n",
       "      <td>up</td>\n",
       "      <td>2005-11-21</td>\n",
       "      <td>up</td>\n",
       "      <td>60 days</td>\n",
       "    </tr>\n",
       "    <tr>\n",
       "      <th>3</th>\n",
       "      <td>21st Century Fox America</td>\n",
       "      <td>Baa2</td>\n",
       "      <td>+</td>\n",
       "      <td>up</td>\n",
       "      <td>2008-04-16</td>\n",
       "      <td>same</td>\n",
       "      <td>877 days</td>\n",
       "    </tr>\n",
       "    <tr>\n",
       "      <th>4</th>\n",
       "      <td>21st Century Fox America</td>\n",
       "      <td>Baa1</td>\n",
       "      <td>NaN</td>\n",
       "      <td>up</td>\n",
       "      <td>2008-06-11</td>\n",
       "      <td>up</td>\n",
       "      <td>56 days</td>\n",
       "    </tr>\n",
       "  </tbody>\n",
       "</table>\n",
       "</div>"
      ],
      "text/plain": [
       "                    Company Moody's Rating Watch  Type Effective Date my_type  \\\n",
       "0  21st Century Fox America           Baa3     -  down     2005-01-25    same   \n",
       "1  21st Century Fox America           Baa3     +    up     2005-09-22    same   \n",
       "2  21st Century Fox America           Baa2   NaN    up     2005-11-21      up   \n",
       "3  21st Century Fox America           Baa2     +    up     2008-04-16    same   \n",
       "4  21st Century Fox America           Baa1   NaN    up     2008-06-11      up   \n",
       "\n",
       "     delta  \n",
       "0 274 days  \n",
       "1 240 days  \n",
       "2  60 days  \n",
       "3 877 days  \n",
       "4  56 days  "
      ]
     },
     "execution_count": 9,
     "metadata": {},
     "output_type": "execute_result"
    }
   ],
   "source": [
    "# remove records that are earlier than the SEC dataset\n",
    "df_moody_sec = df_moody.drop(df_moody.index[too_early])\n",
    "\n",
    "# remove the record with 'WR' rating\n",
    "df_moody_sec = df_moody_sec[df_moody_sec['Moody\\'s Rating'] != 'WR']\n",
    "\n",
    "df_moody_sec = df_moody_sec.reset_index()\n",
    "df_moody_sec = df_moody_sec.drop(['index'], axis=1)\n",
    "\n",
    "print(df_moody_sec.shape)\n",
    "df_moody_sec.head()"
   ]
  },
  {
   "cell_type": "markdown",
   "metadata": {},
   "source": [
    "### Remove deltas < 0"
   ]
  },
  {
   "cell_type": "code",
   "execution_count": 10,
   "metadata": {},
   "outputs": [
    {
     "name": "stdout",
     "output_type": "stream",
     "text": [
      "(52, 7)\n"
     ]
    },
    {
     "name": "stderr",
     "output_type": "stream",
     "text": [
      "/usr/local/lib/python3.7/site-packages/pandas/core/generic.py:4405: SettingWithCopyWarning: \n",
      "A value is trying to be set on a copy of a slice from a DataFrame.\n",
      "Try using .loc[row_indexer,col_indexer] = value instead\n",
      "\n",
      "See the caveats in the documentation: http://pandas.pydata.org/pandas-docs/stable/indexing.html#indexing-view-versus-copy\n",
      "  self[name] = value\n"
     ]
    },
    {
     "data": {
      "text/html": [
       "<div>\n",
       "<style scoped>\n",
       "    .dataframe tbody tr th:only-of-type {\n",
       "        vertical-align: middle;\n",
       "    }\n",
       "\n",
       "    .dataframe tbody tr th {\n",
       "        vertical-align: top;\n",
       "    }\n",
       "\n",
       "    .dataframe thead th {\n",
       "        text-align: right;\n",
       "    }\n",
       "</style>\n",
       "<table border=\"1\" class=\"dataframe\">\n",
       "  <thead>\n",
       "    <tr style=\"text-align: right;\">\n",
       "      <th></th>\n",
       "      <th>Company</th>\n",
       "      <th>Moody's Rating</th>\n",
       "      <th>Watch</th>\n",
       "      <th>Type</th>\n",
       "      <th>Effective Date</th>\n",
       "      <th>my_type</th>\n",
       "      <th>delta</th>\n",
       "    </tr>\n",
       "  </thead>\n",
       "  <tbody>\n",
       "    <tr>\n",
       "      <th>0</th>\n",
       "      <td>21st Century Fox America</td>\n",
       "      <td>Baa3</td>\n",
       "      <td>-</td>\n",
       "      <td>down</td>\n",
       "      <td>2005-01-25</td>\n",
       "      <td>same</td>\n",
       "      <td>9.008219</td>\n",
       "    </tr>\n",
       "    <tr>\n",
       "      <th>1</th>\n",
       "      <td>21st Century Fox America</td>\n",
       "      <td>Baa3</td>\n",
       "      <td>+</td>\n",
       "      <td>up</td>\n",
       "      <td>2005-09-22</td>\n",
       "      <td>same</td>\n",
       "      <td>7.890411</td>\n",
       "    </tr>\n",
       "    <tr>\n",
       "      <th>2</th>\n",
       "      <td>21st Century Fox America</td>\n",
       "      <td>Baa2</td>\n",
       "      <td>NaN</td>\n",
       "      <td>up</td>\n",
       "      <td>2005-11-21</td>\n",
       "      <td>up</td>\n",
       "      <td>1.972603</td>\n",
       "    </tr>\n",
       "    <tr>\n",
       "      <th>3</th>\n",
       "      <td>21st Century Fox America</td>\n",
       "      <td>Baa2</td>\n",
       "      <td>+</td>\n",
       "      <td>up</td>\n",
       "      <td>2008-04-16</td>\n",
       "      <td>same</td>\n",
       "      <td>28.832877</td>\n",
       "    </tr>\n",
       "    <tr>\n",
       "      <th>4</th>\n",
       "      <td>21st Century Fox America</td>\n",
       "      <td>Baa1</td>\n",
       "      <td>NaN</td>\n",
       "      <td>up</td>\n",
       "      <td>2008-06-11</td>\n",
       "      <td>up</td>\n",
       "      <td>1.841096</td>\n",
       "    </tr>\n",
       "  </tbody>\n",
       "</table>\n",
       "</div>"
      ],
      "text/plain": [
       "                    Company Moody's Rating Watch  Type Effective Date my_type  \\\n",
       "0  21st Century Fox America           Baa3     -  down     2005-01-25    same   \n",
       "1  21st Century Fox America           Baa3     +    up     2005-09-22    same   \n",
       "2  21st Century Fox America           Baa2   NaN    up     2005-11-21      up   \n",
       "3  21st Century Fox America           Baa2     +    up     2008-04-16    same   \n",
       "4  21st Century Fox America           Baa1   NaN    up     2008-06-11      up   \n",
       "\n",
       "       delta  \n",
       "0   9.008219  \n",
       "1   7.890411  \n",
       "2   1.972603  \n",
       "3  28.832877  \n",
       "4   1.841096  "
      ]
     },
     "execution_count": 10,
     "metadata": {},
     "output_type": "execute_result"
    }
   ],
   "source": [
    "# filter out negative deltas - negative deltas indicate a first \n",
    "# Moody's rating for a given company so it is excluded from the model\n",
    "# because it doesn't correspond to any change\n",
    "df_moody_int = df_moody_sec[df_moody_sec['delta']>pd.to_timedelta(0)]\n",
    "# convert days to months int type\n",
    "df_moody_int.delta = df_moody_int.delta.apply(lambda x: int(x.days)/365*12)\n",
    "\n",
    "print(df_moody_int.shape)\n",
    "df_moody_int.head()"
   ]
  },
  {
   "cell_type": "markdown",
   "metadata": {},
   "source": [
    "# Plots\n",
    "\n",
    "## Distribution of intervals"
   ]
  },
  {
   "cell_type": "code",
   "execution_count": 11,
   "metadata": {},
   "outputs": [
    {
     "data": {
      "image/png": "[encoded data removed]",
      "text/plain": [
       "<Figure size 864x216 with 2 Axes>"
      ]
     },
     "metadata": {},
     "output_type": "display_data"
    }
   ],
   "source": [
    "# cumulative hist plot for time intervals between Moody's announcements\n",
    "\n",
    "sns.set(style=\"dark\")\n",
    "\n",
    "fig, axes = plt.subplots(1,2, figsize=(12,3))\n",
    "axes = axes.ravel()\n",
    "\n",
    "a = axes[0]\n",
    "\n",
    "a.hist(df_moody_int.delta, bins=range(0,120, 5), cumulative=True, alpha=0.5)\n",
    "a.set_xlabel(\"time interval between Moody's changes in months\")\n",
    "a.set_ylabel('cumulative count')\n",
    "a.set_xlim([0,110])\n",
    "a.set_title('a) Full')\n",
    "a.set_xticks(range(0,110,10))\n",
    "a.set_xticklabels(range(0,110,10))\n",
    "\n",
    "# set individual bar lables\n",
    "for i in a.patches:\n",
    "    # get_x pulls left or right; get_height pushes up or down\n",
    "    if (i.get_x()<110) & (i.get_height()>0):\n",
    "        a.text(i.get_x()+2.5, i.get_height()+0.5, str(int(i.get_height())), \n",
    "               fontsize=6, color='dimgrey', ha = 'center',\n",
    "               rotation=0)\n",
    "\n",
    "a = axes[1]\n",
    "\n",
    "a.hist(df_moody_int.delta, bins=range(110), cumulative=True, alpha=0.5)\n",
    "a.set_xlabel(\"time interval between Moody's changes in months\")\n",
    "a.set_xlim([0,12])\n",
    "a.set_ylim([0,34])\n",
    "a.set_title('b) Zoom - up to 12 months')\n",
    "a.set_xticks(range(12))\n",
    "a.set_xticklabels(range(12))\n",
    "\n",
    "# set individual bar lables\n",
    "for i in a.patches:\n",
    "    # get_x pulls left or right; get_height pushes up or down\n",
    "    if (i.get_x()<12) & (i.get_height()>0):\n",
    "        a.text(i.get_x()+0.5, i.get_height()+0.2, str(int(i.get_height())), \n",
    "               fontsize=8, color='dimgrey', ha = 'center',\n",
    "               rotation=0)\n",
    "\n",
    "# fig.suptitle(\"Distribution of intervals between Moody's changes\", fontsize=12)\n",
    "\n",
    "plt.show()\n",
    "fig.savefig('fig_moodys_intervals_dist.pdf', bbox_inches='tight')"
   ]
  },
  {
   "cell_type": "markdown",
   "metadata": {},
   "source": [
    "## Distribution of Moody's change type "
   ]
  },
  {
   "cell_type": "code",
   "execution_count": 12,
   "metadata": {},
   "outputs": [],
   "source": [
    "df_moody_count = pd.concat([df_moody_int, pd.get_dummies(df_moody_int['my_type'])], axis=1)\n",
    "\n",
    "df_moody_count['all companies'] = ''\n",
    "\n",
    "df_count_by_company = df_moody_count.groupby('Company').sum()\n",
    "df_count_by_company = df_count_by_company.drop(['delta'], axis=1)\n",
    "\n",
    "df_count_all = df_moody_count.groupby('all companies').sum()\n",
    "df_count_all = df_count_all.drop(['delta'], axis=1)"
   ]
  },
  {
   "cell_type": "code",
   "execution_count": 13,
   "metadata": {},
   "outputs": [
    {
     "data": {
      "image/png": "[encoded data removed]",
      "text/plain": [
       "<Figure size 864x216 with 2 Axes>"
      ]
     },
     "metadata": {},
     "output_type": "display_data"
    }
   ],
   "source": [
    "sns.set(style=\"dark\")\n",
    "\n",
    "fig, axes = plt.subplots(1,2, figsize=(12,3), gridspec_kw = {'width_ratios':[1, 5]})\n",
    "axes = axes.ravel()\n",
    "\n",
    "ax = axes[0]\n",
    "\n",
    "df_count_all.plot(kind='bar', ax=ax, rot=0, colormap='cool_r')\n",
    "ax.set_ylabel(\"# Moody's announcements\")\n",
    "ax.set_ylim([0, 30])\n",
    "\n",
    "ax.get_legend().remove()\n",
    "\n",
    "# bar lables\n",
    "for i in ax.patches:\n",
    "    # get_x pulls left or right; get_height pushes up or down\n",
    "    ax.text(i.get_x(), i.get_height()+0.5, \\\n",
    "            str(i.get_height()), fontsize=11, color='dimgrey',\n",
    "                rotation=0)\n",
    "\n",
    "ax = axes[1]\n",
    "\n",
    "df_count_by_company.plot(kind='bar', ax=ax, rot=0, colormap='cool_r')\n",
    "ax.set_ylim([0, 30])\n",
    "\n",
    "ax.set_xticklabels(list(sorted(sec_dict.keys())))\n",
    "\n",
    "# bar lables\n",
    "for i in ax.patches:\n",
    "    # get_x pulls left or right; get_height pushes up or down\n",
    "    ax.text(i.get_x(), i.get_height()+0.5, \\\n",
    "            str(i.get_height()), fontsize=10, color='dimgrey',\n",
    "                rotation=0)\n",
    "\n",
    "plt.show()\n",
    "fig.savefig('Moody_counts.pdf', bbox_inches='tight')"
   ]
  }
 ],
 "metadata": {
  "kernelspec": {
   "display_name": "Python 3",
   "language": "python",
   "name": "python3"
  },
  "language_info": {
   "codemirror_mode": {
    "name": "ipython",
    "version": 3
   },
   "file_extension": ".py",
   "mimetype": "text/x-python",
   "name": "python",
   "nbconvert_exporter": "python",
   "pygments_lexer": "ipython3",
   "version": "3.7.0"
  }
 },
 "nbformat": 4,
 "nbformat_minor": 2
}
