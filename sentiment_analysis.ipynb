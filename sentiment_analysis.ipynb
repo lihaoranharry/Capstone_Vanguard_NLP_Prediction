{
  "nbformat": 4,
  "nbformat_minor": 0,
  "metadata": {
    "colab": {
      "name": "sentiment_analysis.ipynb",
      "version": "0.3.2",
      "provenance": [],
      "collapsed_sections": [
        "PqsC3RhykScu",
        "0ok28XmRkrjY",
        "LlbgF8pO3u9F",
        "CZHAVsndl8Dt",
        "BM2AQDmdkBMY"
      ]
    },
    "kernelspec": {
      "name": "python3",
      "display_name": "Python 3"
    },
    "accelerator": "GPU"
  },
  "cells": [
    {
      "metadata": {
        "id": "Y8XLxqUBlhMG",
        "colab_type": "text"
      },
      "cell_type": "markdown",
      "source": [
        "## Link Drive"
      ]
    },
    {
      "metadata": {
        "id": "2N7_aoDVlgZE",
        "colab_type": "code",
        "outputId": "b0fb6490-9af6-4565-add5-e827940acad0",
        "colab": {
          "base_uri": "https://localhost:8080/",
          "height": 124
        }
      },
      "cell_type": "code",
      "source": [
        "from google.colab import drive\n",
        "drive.mount('/content/gdrive')\n",
        "#!ls \"/content/gdrive/My Drive/Colab Notebooks/Capstone\""
      ],
      "execution_count": 2,
      "outputs": [
        {
          "output_type": "stream",
          "text": [
            "Go to this URL in a browser: https://accounts.google.com/o/oauth2/auth?client_id=947318989803-6bn6qk8qdgf4n4g3pfee6491hc0brc4i.apps.googleusercontent.com&redirect_uri=urn%3Aietf%3Awg%3Aoauth%3A2.0%3Aoob&scope=email%20https%3A%2F%2Fwww.googleapis.com%2Fauth%2Fdocs.test%20https%3A%2F%2Fwww.googleapis.com%2Fauth%2Fdrive%20https%3A%2F%2Fwww.googleapis.com%2Fauth%2Fdrive.photos.readonly%20https%3A%2F%2Fwww.googleapis.com%2Fauth%2Fpeopleapi.readonly&response_type=code\n",
            "\n",
            "Enter your authorization code:\n",
            "··········\n",
            "Mounted at /content/gdrive\n"
          ],
          "name": "stdout"
        }
      ]
    },
    {
      "metadata": {
        "id": "iSEYSa8Zlnn7",
        "colab_type": "text"
      },
      "cell_type": "markdown",
      "source": [
        "## Libraries"
      ]
    },
    {
      "metadata": {
        "id": "mFem-hf6lcZ6",
        "colab_type": "code",
        "outputId": "15406858-6cd6-4659-af3a-ee622e156c69",
        "colab": {
          "base_uri": "https://localhost:8080/",
          "height": 35
        }
      },
      "cell_type": "code",
      "source": [
        "import pandas as pd\n",
        "import numpy as np\n",
        "import matplotlib.pyplot as plt\n",
        "!pip install xlrd\n",
        "\n",
        "import tensorflow\n",
        "tensorflow.enable_eager_execution()\n",
        "\n",
        "from tensorflow.keras.preprocessing.text import Tokenizer\n",
        "from tensorflow.keras.preprocessing.sequence import pad_sequences\n",
        "from tensorflow.keras.layers import Input, Embedding, LSTM, CuDNNLSTM, GRU, CuDNNGRU, Dense, Dropout, Conv1D, GlobalMaxPooling1D\n",
        "from tensorflow.keras.models import Model\n",
        "from tensorflow.keras import Sequential\n",
        "from tensorflow.keras.callbacks import EarlyStopping\n",
        "from sklearn.preprocessing import LabelEncoder\n",
        "from scipy import stats\n",
        "\n",
        "from sklearn.ensemble import RandomForestClassifier\n",
        "from sklearn.model_selection import GridSearchCV\n",
        "from sklearn.pipeline import make_pipeline"
      ],
      "execution_count": 7,
      "outputs": [
        {
          "output_type": "stream",
          "text": [
            "Requirement already satisfied: xlrd in /usr/local/lib/python3.6/dist-packages (1.1.0)\n"
          ],
          "name": "stdout"
        }
      ]
    },
    {
      "metadata": {
        "id": "PqsC3RhykScu",
        "colab_type": "text"
      },
      "cell_type": "markdown",
      "source": [
        "## Select Data\n",
        "\n",
        "Don't run it again once we have the cleaned file."
      ]
    },
    {
      "metadata": {
        "id": "_kp3pFqAkoA3",
        "colab_type": "code",
        "colab": {}
      },
      "cell_type": "code",
      "source": [
        "def select_cols(cols=['Unnamed: 0','form','findexdate','only_eng_words','sec_full_path'],\n",
        "                input_name = ['21centfoxinc','attinc','cbscorp','comcastcorp','verizoncom'],\n",
        "                output_name = ['fox','att','cbs','comcast','verizon']):\n",
        "  for i in range(len(input_name)):\n",
        "    df = pd.read_csv('/content/gdrive/My Drive/Colab Notebooks/Capstone/sec_files/cleaned_data_updated_%s_sec_files.csv' % input_name[i],sep='|',\n",
        "                     usecols=cols)\n",
        "    if input_name[i]=='cbscorp':\n",
        "      df = df[df['sec_full_path']!='https://www.sec.gov/Archives/edgar/data/813828/0000950136-06-004285.txt']\n",
        "      df.reset_index(drop=True, inplace=True)\n",
        "      df = df.drop(columns=['sec_full_path'])\n",
        "    elif input_name[i]=='verizoncom':\n",
        "      df = df[df['sec_full_path']!='https://www.sec.gov/Archives/edgar/data/732712/0000909518-11-000031.txt']\n",
        "      df.reset_index(drop=True, inplace=True)\n",
        "      df = df.drop(columns=['sec_full_path'])\n",
        "    df.to_csv('/content/gdrive/My Drive/Colab Notebooks/Capstone/sec_files_selected/%s.csv' % output_name[i],index=False)\n",
        "    \n",
        "select_cols()"
      ],
      "execution_count": 0,
      "outputs": []
    },
    {
      "metadata": {
        "id": "0ok28XmRkrjY",
        "colab_type": "text"
      },
      "cell_type": "markdown",
      "source": [
        "## Clean Dictionary\n",
        "\n",
        "Don't run it again once we have the cleaned file."
      ]
    },
    {
      "metadata": {
        "id": "14TWf5YakpP3",
        "colab_type": "code",
        "outputId": "c48eefdc-2f52-4679-fad9-1983075fed4f",
        "colab": {
          "base_uri": "https://localhost:8080/",
          "height": 207
        }
      },
      "cell_type": "code",
      "source": [
        "lm_dic = pd.read_csv('/content/gdrive/My Drive/Colab Notebooks/Capstone/LoughranMcDonald_MasterDictionary_2016.csv')\n",
        "lm_words = lm_dic[['Negative','Positive','Uncertainty','Litigious','Constraining','Superfluous','Interesting','Modal']].astype(bool)\n",
        "lm_dic_clean = lm_dic[lm_words.Negative | lm_words.Positive | lm_words.Uncertainty | lm_words.Litigious | lm_words.Constraining | lm_words.Superfluous | lm_words.Interesting | lm_words.Modal]\n",
        "lm_dic_clean = lm_dic_clean[['Word','Negative','Positive','Uncertainty','Litigious','Constraining','Superfluous','Interesting','Modal']]\n",
        "lm_dic_clean = lm_dic_clean.reset_index(drop=True)\n",
        "lm_1 = lm_dic_clean[['Negative','Positive','Uncertainty','Litigious','Constraining','Superfluous','Interesting']]\n",
        "lm_2 = lm_dic_clean[['Word','Modal']]\n",
        "lm_1[lm_1>0]=1\n",
        "lm_export = pd.merge(lm_2, lm_1, left_index=True, right_index=True)\n",
        "lm_export.to_csv('/content/gdrive/My Drive/Colab Notebooks/Capstone/lm_dic_clean.csv',index=False)"
      ],
      "execution_count": 0,
      "outputs": [
        {
          "output_type": "stream",
          "text": [
            "/usr/local/lib/python3.6/dist-packages/ipykernel_launcher.py:8: SettingWithCopyWarning: \n",
            "A value is trying to be set on a copy of a slice from a DataFrame.\n",
            "Try using .loc[row_indexer,col_indexer] = value instead\n",
            "\n",
            "See the caveats in the documentation: http://pandas.pydata.org/pandas-docs/stable/indexing.html#indexing-view-versus-copy\n",
            "  \n",
            "/usr/local/lib/python3.6/dist-packages/pandas/core/frame.py:2554: SettingWithCopyWarning: \n",
            "A value is trying to be set on a copy of a slice from a DataFrame\n",
            "\n",
            "See the caveats in the documentation: http://pandas.pydata.org/pandas-docs/stable/indexing.html#indexing-view-versus-copy\n",
            "  self._where(-key, value, inplace=True)\n"
          ],
          "name": "stderr"
        }
      ]
    },
    {
      "metadata": {
        "id": "LlbgF8pO3u9F",
        "colab_type": "text"
      },
      "cell_type": "markdown",
      "source": [
        "## Load Dictionary\n",
        "\n",
        "Don't run it again once we have the cleaned file."
      ]
    },
    {
      "metadata": {
        "id": "fYQ1mzCG3t7b",
        "colab_type": "code",
        "colab": {}
      },
      "cell_type": "code",
      "source": [
        "lm = pd.read_csv('/content/gdrive/My Drive/Colab Notebooks/Capstone/lm_dic_clean.csv')"
      ],
      "execution_count": 0,
      "outputs": []
    },
    {
      "metadata": {
        "id": "CZHAVsndl8Dt",
        "colab_type": "text"
      },
      "cell_type": "markdown",
      "source": [
        "## Load  SEC Filings and Map Sentiment\n",
        "\n",
        "Don't run it again once we have the cleaned file."
      ]
    },
    {
      "metadata": {
        "id": "ve8_p9J-l6x4",
        "colab_type": "code",
        "colab": {}
      },
      "cell_type": "code",
      "source": [
        "# sentiment frequency\n",
        "\n",
        "def map_sentiment(df):\n",
        "  df_list = []\n",
        "  result = []\n",
        "  length = []\n",
        "  for i in range(len(df)):\n",
        "    print(i)\n",
        "    cur_df = pd.DataFrame({'Word':df['only_eng_words'][i].split()})\n",
        "    length.append(len(cur_df['Word']))\n",
        "    # map each word with sentiment\n",
        "    merged_df = pd.merge(cur_df,lm,how='inner')\n",
        "    df_list.append(merged_df)\n",
        "    result.append(list(merged_df.apply(np.sum,axis = 0))[1:])\n",
        "  result = [*zip(*result)]   # take transpose\n",
        "  result_df = pd.merge(df,pd.DataFrame({\n",
        "                                        'Sentiment':df_list,\n",
        "                                        'Modal':result[0],\n",
        "                                        'Negative':result[1],\n",
        "                                        'Positive':result[2],\n",
        "                                        'Uncertainty':result[3],\n",
        "                                        'Litigious':result[4],\n",
        "                                        'Constraining':result[5],\n",
        "                                        'Superfluous':result[6],\n",
        "                                        'Interesting':result[7],\n",
        "                                        'Doc_length':length\n",
        "                                       }),left_index=True,right_index=True)\n",
        "  result_df['Modal_freq'] = result_df['Modal']/result_df['Doc_length']\n",
        "  result_df['Negative_freq'] = result_df['Negative']/result_df['Doc_length']\n",
        "  result_df['Positive_freq'] = result_df['Positive']/result_df['Doc_length']\n",
        "  result_df['Uncertainty_freq'] = result_df['Uncertainty']/result_df['Doc_length']\n",
        "  result_df['Litigious_freq'] = result_df['Litigious']/result_df['Doc_length']\n",
        "  result_df['Constraining_freq'] = result_df['Constraining']/result_df['Doc_length']\n",
        "  result_df['Superfluous_freq'] = result_df['Superfluous']/result_df['Doc_length']\n",
        "  result_df['Interesting_freq'] = result_df['Interesting']/result_df['Doc_length']\n",
        "  result_df['Negative_score'] = (result_df['Negative']-result_df['Positive'])/result_df['Doc_length']\n",
        "  return(result_df[['Unnamed: 0','form','findexdate','Sentiment','Modal_freq','Negative_freq','Positive_freq',\n",
        "                   'Uncertainty_freq','Litigious_freq','Constraining_freq','Superfluous_freq','Interesting_freq',\n",
        "                   'Negative_score']])\n",
        "\n",
        "def map_sentiment_all(name = ['fox','att','cbs','comcast','verizon']):\n",
        "  for company in name:\n",
        "    sec = pd.read_csv('/content/gdrive/My Drive/Colab Notebooks/Capstone/sec_files_selected/%s.csv' % company)\n",
        "    sec['only_eng_words'] = sec['only_eng_words'].str.upper()\n",
        "    sec_sentiment = map_sentiment(sec)\n",
        "    sec_sentiment.to_csv('/content/gdrive/My Drive/Colab Notebooks/Capstone/sentiment/%s_sentiment.csv' % company,index=False)\n",
        "    \n",
        "map_sentiment_all()"
      ],
      "execution_count": 0,
      "outputs": []
    },
    {
      "metadata": {
        "id": "BM2AQDmdkBMY",
        "colab_type": "text"
      },
      "cell_type": "markdown",
      "source": [
        "## Stack Sentiment Features\n",
        "\n",
        "Don't run it again once we have the cleaned file."
      ]
    },
    {
      "metadata": {
        "id": "ETwZoFPZkHcG",
        "colab_type": "code",
        "colab": {}
      },
      "cell_type": "code",
      "source": [
        "fox = pd.read_csv('/content/gdrive/My Drive/Colab Notebooks/Capstone/sentiment/fox_sentiment.csv')\n",
        "comcast = pd.read_csv('/content/gdrive/My Drive/Colab Notebooks/Capstone/sentiment/comcast_sentiment.csv')\n",
        "att = pd.read_csv('/content/gdrive/My Drive/Colab Notebooks/Capstone/sentiment/att_sentiment.csv')\n",
        "verizon = pd.read_csv('/content/gdrive/My Drive/Colab Notebooks/Capstone/sentiment/verizon_sentiment.csv')\n",
        "cbs = pd.read_csv('/content/gdrive/My Drive/Colab Notebooks/Capstone/sentiment/cbs_sentiment.csv')\n",
        "sentiment_features = pd.concat([fox,comcast,att,verizon,cbs],ignore_index=True)\n",
        "sentiment_features = sentiment_features.sort_values('Unnamed: 0')\n",
        "sentiment_features.to_csv('/content/gdrive/My Drive/Colab Notebooks/Capstone/sentiment/sentiment_features_all.csv',index=False)"
      ],
      "execution_count": 0,
      "outputs": []
    },
    {
      "metadata": {
        "id": "3RLgm3uzk1Id",
        "colab_type": "text"
      },
      "cell_type": "markdown",
      "source": [
        "# Run Below"
      ]
    },
    {
      "metadata": {
        "id": "gCFFjrMFAEeY",
        "colab_type": "text"
      },
      "cell_type": "markdown",
      "source": [
        "## Load Moody's Rating, Sentiment and Events"
      ]
    },
    {
      "metadata": {
        "id": "eZqGD6eyk3tK",
        "colab_type": "code",
        "colab": {}
      },
      "cell_type": "code",
      "source": [
        "def load_data(company):\n",
        "  '''\n",
        "  The output of this function are used as inputs of interactive plots.\n",
        "  '''\n",
        "  moodys = pd.read_excel('/content/gdrive/My Drive/Colab Notebooks/Capstone/Columbia DSIC 2018 - Moody\\'s data.xlsx',sheet_name='Sheet1')\n",
        "  if company == 'fox':\n",
        "    mycompany = '21st Century Fox America'\n",
        "    moodys = moodys.loc[moodys['Company']=='21st Century Fox America']\n",
        "    moodys = moodys.sort_values(\"Effective Date\")\n",
        "    moodys = moodys.reset_index(drop=True)\n",
        "    sentiment = pd.read_csv('/content/gdrive/My Drive/Colab Notebooks/Capstone/sentiment/fox_sentiment.csv')    \n",
        "  elif company == 'verizon':\n",
        "    mycompany = 'Verizon Communications Inc'\n",
        "    moodys = moodys.loc[moodys['Company']=='Verizon Communications Inc']\n",
        "    moodys = moodys.sort_values(\"Effective Date\")\n",
        "    moodys = moodys.reset_index(drop=True)\n",
        "    sentiment = pd.read_csv('/content/gdrive/My Drive/Colab Notebooks/Capstone/sentiment/verizon_sentiment.csv')\n",
        "  elif company == 'comcast':\n",
        "    mycompany = 'Comcast Corp'\n",
        "    moodys = moodys.loc[moodys['Company']=='Comcast Corp']\n",
        "    moodys = moodys.sort_values(\"Effective Date\")\n",
        "    moodys = moodys.reset_index(drop=True)\n",
        "    sentiment = pd.read_csv('/content/gdrive/My Drive/Colab Notebooks/Capstone/sentiment/comcast_sentiment.csv')\n",
        "  elif company == 'att':\n",
        "    mycompany = 'AT&T Corp'\n",
        "    moodys = moodys.loc[moodys['Company']=='AT&T Corp']\n",
        "    moodys = moodys.sort_values(\"Effective Date\")\n",
        "    moodys = moodys.reset_index(drop=True)\n",
        "    sentiment = pd.read_csv('/content/gdrive/My Drive/Colab Notebooks/Capstone/sentiment/att_sentiment.csv')\n",
        "  elif company == 'cbs':\n",
        "    mycompany = 'CBS Corp'\n",
        "    moodys = moodys.loc[moodys['Company']=='CBS Corp']\n",
        "    moodys = moodys.sort_values(\"Effective Date\")\n",
        "    moodys = moodys.reset_index(drop=True)\n",
        "    sentiment = pd.read_csv('/content/gdrive/My Drive/Colab Notebooks/Capstone/sentiment/cbs_sentiment.csv')  \n",
        "  return((moodys,sentiment,mycompany))\n",
        "# moodys, sentiment, company = load_data('verizon')\n",
        "\n",
        "def remove_newlines(df):\n",
        "  stripped = []\n",
        "  for i in range(df.shape[0]):\n",
        "    item = df['Item_text'][i][2:-2].replace('\\\\n','')\n",
        "    stripped.append(item)\n",
        "    #if item=='':\n",
        "      #stripped.append('none')\n",
        "    #else:\n",
        "      #stripped.append(item)\n",
        "  return stripped\n",
        "\n",
        "def load_data_stacked(mycompany=['verizon','cbs','att','fox','comcast']):\n",
        "  moodys,sentiment,company=load_data(mycompany[0])\n",
        "  event = pd.read_csv('/content/gdrive/My Drive/Colab Notebooks/Capstone/table_item/table_item_data_%s.csv' % mycompany[0],sep='|',usecols=['Item_text','Item_category'])\n",
        "  for i in range(1,len(mycompany)):\n",
        "    cur_moodys,cur_sentiment,cur_company=load_data(mycompany[i])\n",
        "    if mycompany[i]=='fox':\n",
        "      cur_event = pd.read_csv('/content/gdrive/My Drive/Colab Notebooks/Capstone/table_item/table_item_data_%s.csv' % '21cent',sep='|',usecols=['Item_text','Item_category'])\n",
        "    else:\n",
        "      cur_event = pd.read_csv('/content/gdrive/My Drive/Colab Notebooks/Capstone/table_item/table_item_data_%s.csv' % mycompany[i],sep='|',usecols=['Item_text','Item_category'])\n",
        "    sentiment = sentiment.append(cur_sentiment,ignore_index=True)\n",
        "    event = event.append(cur_event,ignore_index=True)\n",
        "    \n",
        "    # remove new lines from event\n",
        "    event['stripped_event'] = remove_newlines(event)\n",
        "  \n",
        "  sentiment['findexdate'] = pd.to_datetime(sentiment['findexdate'])\n",
        "  return ((sentiment,event))\n",
        "\n",
        "\n",
        "def data_merge(sentiment=load_data_stacked()[0],event=load_data_stacked()[1]):\n",
        "  return pd.concat([sentiment, event], axis=1)\n",
        "\n",
        "features = data_merge()"
      ],
      "execution_count": 0,
      "outputs": []
    },
    {
      "metadata": {
        "id": "hi6bXqKXMaRX",
        "colab_type": "text"
      },
      "cell_type": "markdown",
      "source": [
        "## Prepare Training Data"
      ]
    },
    {
      "metadata": {
        "id": "vWTa5wib9TkG",
        "colab_type": "code",
        "colab": {
          "base_uri": "https://localhost:8080/",
          "height": 380
        },
        "outputId": "f9ba1298-6ace-4533-cc6d-e1b802ea1263"
      },
      "cell_type": "code",
      "source": [
        "def prepare_train(num_words=1000,max_len=50,df = features):\n",
        "  df_train = df[df['findexdate']<pd.to_datetime('2018-07-01')]\n",
        "  df_test = df[df['findexdate']>=pd.to_datetime('2018-07-01')]\n",
        "  \n",
        "  t = Tokenizer(num_words=num_words)\n",
        "  t.fit_on_texts(df_train['stripped_event'])\n",
        "  x_train_text = t.texts_to_sequences(df_train['stripped_event'])\n",
        "  x_train_text = pad_sequences(x_train_text, maxlen=max_len, padding='post')\n",
        "  x_train_text = x_train_text.astype('float32')\n",
        "  x_test_text = t.texts_to_sequences(df_test['stripped_event'])\n",
        "  x_test_text = pad_sequences(x_test_text, maxlen=max_len, padding='post')\n",
        "  x_test_text = x_test_text.astype('float32')\n",
        "  \n",
        "  \n",
        "    \n",
        "  x_train_tabular = df_train[['Modal_freq','Negative_freq','Positive_freq',\n",
        "                              'Uncertainty_freq','Litigious_freq','Constraining_freq',\n",
        "                              'Superfluous_freq','Interesting_freq','Negative_score']]\n",
        "  x_test_tabular = df_test[['Modal_freq','Negative_freq','Positive_freq',\n",
        "                            'Uncertainty_freq','Litigious_freq','Constraining_freq',\n",
        "                            'Superfluous_freq','Interesting_freq','Negative_score']]\n",
        "  \n",
        "  \n",
        "  \n",
        "  y_train = ['A1']*78+['WR']*129+['A3']*183+['Baa1']*131+\\\n",
        "            ['Ba3']*16+['Ba2']*24+['Baa3']*11+['Baa1']*6+['A3']*79+['Baa3']*126+['Baa2']*115+\\\n",
        "            ['Aa3']*39+['A1']*25+['A2']*4+['A3']*4+['Baa2']*28+['Ba1']*41+['Baa2']*6+['A2']*196+['A3']*73+['Baa1']*124+['Baa2']*1+\\\n",
        "            ['Baa3']*74+['Baa2']*205+['Baa1']*758+\\\n",
        "            ['Ba1']*2+['Baa3']*32+['Baa2']*72+['Baa1']*59+['A3']*107 \n",
        "  y_test = ['Baa1']*3+['Baa2']*7+['Baa2']*14+['Baa1']*11+['A3']*5\n",
        "  \n",
        "  # encode string labels into integer labels\n",
        "  le = LabelEncoder()\n",
        "  le.fit(y_train)\n",
        "  print(\"Classes: \",le.classes_)\n",
        "  \n",
        "  y_train = le.transform(y_train)\n",
        "  y_train = y_train.astype('int64')\n",
        "  print(\"Train set distribution: \\n\",stats.itemfreq(y_train))\n",
        "  y_train = np.reshape(y_train,(len(y_train),1))\n",
        "  \n",
        "  y_test = le.transform(y_test)\n",
        "  y_test = y_test.astype('int64')\n",
        "  print(\"Test set distribution: \\n\",stats.itemfreq(y_test))\n",
        "  y_test = np.reshape(y_test,(len(y_test),1))\n",
        "  \n",
        "  return ((x_train_text,x_train_tabular,y_train,x_test_text,x_test_tabular,y_test))\n",
        "\n",
        "x_train_text,x_train_tabular,y_train,x_test_text,x_test_tabular,y_test = prepare_train()"
      ],
      "execution_count": 5,
      "outputs": [
        {
          "output_type": "stream",
          "text": [
            "Classes:  ['A1' 'A2' 'A3' 'Aa3' 'Ba1' 'Ba2' 'Ba3' 'Baa1' 'Baa2' 'Baa3' 'WR']\n",
            "Train set distribution: \n",
            " [[   0  103]\n",
            " [   1  200]\n",
            " [   2  446]\n",
            " [   3   39]\n",
            " [   4   43]\n",
            " [   5   24]\n",
            " [   6   16]\n",
            " [   7 1078]\n",
            " [   8  427]\n",
            " [   9  243]\n",
            " [  10  129]]\n",
            "Test set distribution: \n",
            " [[ 2  5]\n",
            " [ 7 14]\n",
            " [ 8 21]]\n"
          ],
          "name": "stdout"
        },
        {
          "output_type": "stream",
          "text": [
            "/usr/local/lib/python3.6/dist-packages/ipykernel_launcher.py:35: DeprecationWarning: `itemfreq` is deprecated!\n",
            "`itemfreq` is deprecated and will be removed in a future version. Use instead `np.unique(..., return_counts=True)`\n",
            "/usr/local/lib/python3.6/dist-packages/ipykernel_launcher.py:40: DeprecationWarning: `itemfreq` is deprecated!\n",
            "`itemfreq` is deprecated and will be removed in a future version. Use instead `np.unique(..., return_counts=True)`\n"
          ],
          "name": "stderr"
        }
      ]
    },
    {
      "metadata": {
        "id": "hUsxcXrKJKh5",
        "colab_type": "text"
      },
      "cell_type": "markdown",
      "source": [
        "## Prepare Plot Helper Functions"
      ]
    },
    {
      "metadata": {
        "id": "pAWwo_ZQJPzf",
        "colab_type": "code",
        "colab": {}
      },
      "cell_type": "code",
      "source": [
        "def get_distribution(myfreq):\n",
        "  dist = [0]*11\n",
        "  for i in range(len(myfreq)):\n",
        "    dist[myfreq[i][0]]=myfreq[i][1]\n",
        "  return dist\n",
        "\n",
        "def autolabel(rects,ax):\n",
        "  \"\"\"\n",
        "  Attach a text label above each bar displaying its height\n",
        "  \"\"\"\n",
        "  for rect in rects:\n",
        "    height = rect.get_height()\n",
        "    ax.text(rect.get_x() + rect.get_width()/2., 1*height,\n",
        "            '%d' % int(height),\n",
        "            ha='center', va='bottom')\n",
        "\n",
        "def plot_distribution(pred_label,actual_label):\n",
        "  N = 11\n",
        "\n",
        "  ind = np.arange(N)  # the x locations for the groups\n",
        "  width = 0.36        # the width of the bars\n",
        "  \n",
        "  fig, ax = plt.subplots()\n",
        "  fig.set_figheight(9)\n",
        "  fig.set_figwidth(16)\n",
        "\n",
        "  rects1 = ax.bar(ind, pred_label, width, color='#B284BE')\n",
        "\n",
        "  rects2 = ax.bar(ind + width, actual_label, width, color='#547d8b')\n",
        "\n",
        "  # add some text for labels, title and axes ticks\n",
        "  ax.set_ylabel('Count')\n",
        "  ax.set_title('Predict Label vs Actual Label')\n",
        "  ax.set_xticks(ind + width / 2)\n",
        "  ax.set_xticklabels(['A1', 'A2', 'A3', 'Aa3', 'Ba1', 'Ba2', 'Ba3', 'Baa1', 'Baa2', 'Baa3', 'WR'])\n",
        "\n",
        "  ax.legend((rects1[0], rects2[0]), ('Predicted Label', 'Actual Label'))\n",
        "\n",
        "  autolabel(rects1,ax)\n",
        "  autolabel(rects2,ax)\n",
        "\n",
        "  plt.show()\n"
      ],
      "execution_count": 0,
      "outputs": []
    },
    {
      "metadata": {
        "id": "SYfVP4O8nL8u",
        "colab_type": "text"
      },
      "cell_type": "markdown",
      "source": [
        "## Random Forest with Structured Data"
      ]
    },
    {
      "metadata": {
        "id": "WU5jXG5GnLTj",
        "colab_type": "code",
        "colab": {
          "base_uri": "https://localhost:8080/",
          "height": 505
        },
        "outputId": "13775029-4ad6-4a4c-b3a7-8ae2fddd1f46"
      },
      "cell_type": "code",
      "source": [
        "param_grid = {'randomforestclassifier__max_depth': np.logspace(1, 4, 10)}\n",
        "print(param_grid)\n",
        "\n",
        "rf_pipe = make_pipeline(RandomForestClassifier())\n",
        "grid_rf = GridSearchCV(rf_pipe, param_grid, cv=10)\n",
        "grid_rf.fit(x_train_tabular, np.reshape(y_train,(len(y_train),)))\n",
        "print('Random Forest with Polynomial Features:', grid_rf.best_params_, grid_rf.best_score_ )\n",
        "\n",
        "fig=plt.figure(figsize=(12, 6))\n",
        "plt.suptitle(\"Validation Curve with Random Forest\")\n",
        "plt.xlabel(\"max_depth\")\n",
        "plt.ylabel(\"Score\")\n",
        "lw = 2\n",
        "plt.semilogx(param_grid['randomforestclassifier__max_depth'], grid_rf.cv_results_['mean_test_score'],\n",
        "             label=\"Validation score\",\n",
        "             color=\"darkorange\", lw=lw)\n",
        "plt.show()"
      ],
      "execution_count": 43,
      "outputs": [
        {
          "output_type": "stream",
          "text": [
            "{'randomforestclassifier__max_depth': array([   10.        ,    21.5443469 ,    46.41588834,   100.        ,\n",
            "         215.443469  ,   464.15888336,  1000.        ,  2154.43469003,\n",
            "        4641.58883361, 10000.        ])}\n",
            "Random Forest with Polynomial Features: {'randomforestclassifier__max_depth': 464.15888336127773} 0.5018195050946143\n"
          ],
          "name": "stdout"
        },
        {
          "output_type": "display_data",
          "data": {
            "image/png": "[encoded data removed]",
            "text/plain": [
              "<matplotlib.figure.Figure at 0x7f9908b715f8>"
            ]
          },
          "metadata": {
            "tags": []
          }
        }
      ]
    },
    {
      "metadata": {
        "id": "WzngvUqTuX1U",
        "colab_type": "code",
        "colab": {
          "base_uri": "https://localhost:8080/",
          "height": 2125
        },
        "outputId": "17a074e3-b845-4db7-9b8c-5807fafcf400"
      },
      "cell_type": "code",
      "source": [
        "rf = RandomForestClassifier(max_depth=100).fit(x_train_tabular, np.reshape(y_train,(len(y_train),)))\n",
        "rf.feature_importances_\n",
        "print(\"Pred label on train set:\\n\", stats.itemfreq(rf.predict(x_train_tabular)))\n",
        "print(\"Pred accuracy on train set: \", rf.score(x_train_tabular, y_train))\n",
        "print(\"Pred label on test set:\\n\", stats.itemfreq(rf.predict(x_test_tabular)))\n",
        "print(\"Pred accuracy on test set: \", rf.score(x_test_tabular, y_test))\n",
        "\n",
        "fig=plt.figure(figsize=(12, 8))\n",
        "plt.barh(range(9), rf.feature_importances_)\n",
        "plt.yticks(range(9), ['Modal_freq','Negative_freq','Positive_freq',\n",
        "                              'Uncertainty_freq','Litigious_freq','Constraining_freq',\n",
        "                              'Superfluous_freq','Interesting_freq','Negative_score']);\n",
        "\n",
        "plot_distribution(get_distribution(stats.itemfreq(y_train)), get_distribution(stats.itemfreq(rf.predict(x_train_tabular))))\n",
        "plot_distribution(get_distribution(stats.itemfreq(y_test)), get_distribution(stats.itemfreq(rf.predict(x_test_tabular))))"
      ],
      "execution_count": 128,
      "outputs": [
        {
          "output_type": "stream",
          "text": [
            "/usr/local/lib/python3.6/dist-packages/ipykernel_launcher.py:3: DeprecationWarning: `itemfreq` is deprecated!\n",
            "`itemfreq` is deprecated and will be removed in a future version. Use instead `np.unique(..., return_counts=True)`\n",
            "  This is separate from the ipykernel package so we can avoid doing imports until\n",
            "/usr/local/lib/python3.6/dist-packages/ipykernel_launcher.py:5: DeprecationWarning: `itemfreq` is deprecated!\n",
            "`itemfreq` is deprecated and will be removed in a future version. Use instead `np.unique(..., return_counts=True)`\n",
            "  \"\"\"\n",
            "/usr/local/lib/python3.6/dist-packages/ipykernel_launcher.py:14: DeprecationWarning: `itemfreq` is deprecated!\n",
            "`itemfreq` is deprecated and will be removed in a future version. Use instead `np.unique(..., return_counts=True)`\n",
            "  \n"
          ],
          "name": "stderr"
        },
        {
          "output_type": "stream",
          "text": [
            "Pred label on train set:\n",
            " [[   0  103]\n",
            " [   1  201]\n",
            " [   2  452]\n",
            " [   3   38]\n",
            " [   4   42]\n",
            " [   5   24]\n",
            " [   6   16]\n",
            " [   7 1077]\n",
            " [   8  433]\n",
            " [   9  234]\n",
            " [  10  128]]\n",
            "Pred accuracy on train set:  0.9887190684133915\n",
            "Pred label on test set:\n",
            " [[ 1  3]\n",
            " [ 2 10]\n",
            " [ 7 20]\n",
            " [ 8  5]\n",
            " [ 9  1]\n",
            " [10  1]]\n",
            "Pred accuracy on test set:  0.275\n"
          ],
          "name": "stdout"
        },
        {
          "output_type": "display_data",
          "data": {
            "image/png": "[encoded data removed]",
            "text/plain": [
              "<matplotlib.figure.Figure at 0x7f98ec7ab940>"
            ]
          },
          "metadata": {
            "tags": []
          }
        },
        {
          "output_type": "display_data",
          "data": {
            "image/png": "[encoded data removed]",
            "text/plain": [
              "<matplotlib.figure.Figure at 0x7f98ec6c3a90>"
            ]
          },
          "metadata": {
            "tags": []
          }
        },
        {
          "output_type": "stream",
          "text": [
            "/usr/local/lib/python3.6/dist-packages/ipykernel_launcher.py:15: DeprecationWarning: `itemfreq` is deprecated!\n",
            "`itemfreq` is deprecated and will be removed in a future version. Use instead `np.unique(..., return_counts=True)`\n",
            "  from ipykernel import kernelapp as app\n"
          ],
          "name": "stderr"
        },
        {
          "output_type": "display_data",
          "data": {
            "image/png": "[encoded data removed]",
            "text/plain": [
              "<matplotlib.figure.Figure at 0x7f98ec6a2d68>"
            ]
          },
          "metadata": {
            "tags": []
          }
        }
      ]
    },
    {
      "metadata": {
        "id": "jZtVzxj_tMzg",
        "colab_type": "text"
      },
      "cell_type": "markdown",
      "source": [
        "## Neural Network with Unstrctured Data"
      ]
    },
    {
      "metadata": {
        "id": "Y37lgVcttMYr",
        "colab_type": "code",
        "colab": {
          "base_uri": "https://localhost:8080/",
          "height": 484
        },
        "outputId": "96b328c9-3892-4e65-c00a-d82dfbe13062"
      },
      "cell_type": "code",
      "source": [
        "# meta data\n",
        "num_words = 1000\n",
        "max_len = 50\n",
        "embedding_size = 8\n",
        "output_cat = 11\n",
        "\n",
        "model = Sequential()\n",
        "model.add(Embedding(num_words, embedding_size, input_shape=(max_len,)))\n",
        "if tensorflow.test.is_gpu_available():\n",
        "  model.add(CuDNNLSTM(64, return_sequences=True))\n",
        "  model.add(CuDNNLSTM(64))\n",
        "else:\n",
        "  model.add(LSTM(64, return_sequences=True))\n",
        "  model.add(LSTM(64))\n",
        "\n",
        "model.add(Dense(64))\n",
        "model.add(Dense(output_cat, activation='softmax'))\n",
        "model.compile(tensorflow.train.AdamOptimizer(learning_rate=0.00001), 'sparse_categorical_crossentropy', metrics=['accuracy'])\n",
        "early_stopping = EarlyStopping(monitor='val_acc',min_delta=0.001,patience=5,verbose=1)\n",
        "\n",
        "history = model.fit(x_train_text, y_train, epochs=5, validation_split=0.1, verbose=1, callbacks=[early_stopping])\n",
        "\n",
        "model.summary()"
      ],
      "execution_count": 129,
      "outputs": [
        {
          "output_type": "stream",
          "text": [
            "Epoch 1/5\n",
            "78/78 [==============================] - 4s 52ms/step - loss: 2.3961 - acc: 0.1338 - val_loss: 2.3937 - val_acc: 0.2255\n",
            "Epoch 2/5\n",
            "78/78 [==============================] - 4s 51ms/step - loss: 2.3893 - acc: 0.4163 - val_loss: 2.3883 - val_acc: 0.2255\n",
            "Epoch 3/5\n",
            "78/78 [==============================] - 4s 51ms/step - loss: 2.3817 - acc: 0.4163 - val_loss: 2.3817 - val_acc: 0.2255\n",
            "Epoch 4/5\n",
            "78/78 [==============================] - 4s 51ms/step - loss: 2.3723 - acc: 0.4163 - val_loss: 2.3741 - val_acc: 0.2255\n",
            "Epoch 5/5\n",
            "78/78 [==============================] - 4s 52ms/step - loss: 2.3603 - acc: 0.4163 - val_loss: 2.3639 - val_acc: 0.2255\n",
            "_________________________________________________________________\n",
            "Layer (type)                 Output Shape              Param #   \n",
            "=================================================================\n",
            "embedding_11 (Embedding)     (None, 50, 8)             8000      \n",
            "_________________________________________________________________\n",
            "cu_dnnlstm_10 (CuDNNLSTM)    (None, 50, 64)            18944     \n",
            "_________________________________________________________________\n",
            "cu_dnnlstm_11 (CuDNNLSTM)    (None, 64)                33280     \n",
            "_________________________________________________________________\n",
            "dense_22 (Dense)             (None, 64)                4160      \n",
            "_________________________________________________________________\n",
            "dense_23 (Dense)             (None, 11)                715       \n",
            "=================================================================\n",
            "Total params: 65,099\n",
            "Trainable params: 65,099\n",
            "Non-trainable params: 0\n",
            "_________________________________________________________________\n"
          ],
          "name": "stdout"
        }
      ]
    },
    {
      "metadata": {
        "id": "V2cLP_hLvZp-",
        "colab_type": "code",
        "colab": {
          "base_uri": "https://localhost:8080/",
          "height": 1399
        },
        "outputId": "6173fdcb-0f38-44b0-9fff-821049d01354"
      },
      "cell_type": "code",
      "source": [
        "preds = model.predict(x_train_text)\n",
        "pred_result_train = []\n",
        "for i in range(len(x_train_text)):\n",
        "  pred_result_train.append(np.argmax(preds[i]))\n",
        "print(\"Pred label on train set:\\n\", stats.itemfreq(pred_result_train))\n",
        "print(\"Pred accuracy on train set: \", sum(1 for x,y in zip(list(np.reshape(y_train,(len(y_train),))),pred_result_train) if x == y) / float(len(pred_result_train)))\n",
        "\n",
        "preds = model.predict(x_train_text)\n",
        "pred_result_test = []\n",
        "for i in range(len(x_test_text)):\n",
        "  pred_result_test.append(np.argmax(preds[i]))\n",
        "print(\"Pred label on test set:\\n\", stats.itemfreq(pred_result_test))\n",
        "print(\"Pred accuracy on test set: \", sum(1 for x,y in zip(list(np.reshape(y_test,(len(y_test),))),pred_result_test) if x == y) / float(len(pred_result_test)))\n",
        "\n",
        "plot_distribution(get_distribution(stats.itemfreq(y_train)),get_distribution(stats.itemfreq(pred_result_train)))\n",
        "plot_distribution(get_distribution(stats.itemfreq(y_test)),get_distribution(stats.itemfreq(pred_result_test)))"
      ],
      "execution_count": 130,
      "outputs": [
        {
          "output_type": "stream",
          "text": [
            "/usr/local/lib/python3.6/dist-packages/ipykernel_launcher.py:5: DeprecationWarning: `itemfreq` is deprecated!\n",
            "`itemfreq` is deprecated and will be removed in a future version. Use instead `np.unique(..., return_counts=True)`\n",
            "  \"\"\"\n"
          ],
          "name": "stderr"
        },
        {
          "output_type": "stream",
          "text": [
            "Pred label on train set:\n",
            " [[   7 2748]]\n",
            "Pred accuracy on train set:  0.3922852983988355\n"
          ],
          "name": "stdout"
        },
        {
          "output_type": "stream",
          "text": [
            "/usr/local/lib/python3.6/dist-packages/ipykernel_launcher.py:12: DeprecationWarning: `itemfreq` is deprecated!\n",
            "`itemfreq` is deprecated and will be removed in a future version. Use instead `np.unique(..., return_counts=True)`\n",
            "  if sys.path[0] == '':\n",
            "/usr/local/lib/python3.6/dist-packages/ipykernel_launcher.py:15: DeprecationWarning: `itemfreq` is deprecated!\n",
            "`itemfreq` is deprecated and will be removed in a future version. Use instead `np.unique(..., return_counts=True)`\n",
            "  from ipykernel import kernelapp as app\n"
          ],
          "name": "stderr"
        },
        {
          "output_type": "stream",
          "text": [
            "Pred label on test set:\n",
            " [[ 7 40]]\n",
            "Pred accuracy on test set:  0.35\n"
          ],
          "name": "stdout"
        },
        {
          "output_type": "display_data",
          "data": {
            "image/png": "[encoded data removed]",
            "text/plain": [
              "<matplotlib.figure.Figure at 0x7f99000324a8>"
            ]
          },
          "metadata": {
            "tags": []
          }
        },
        {
          "output_type": "stream",
          "text": [
            "/usr/local/lib/python3.6/dist-packages/ipykernel_launcher.py:16: DeprecationWarning: `itemfreq` is deprecated!\n",
            "`itemfreq` is deprecated and will be removed in a future version. Use instead `np.unique(..., return_counts=True)`\n",
            "  app.launch_new_instance()\n"
          ],
          "name": "stderr"
        },
        {
          "output_type": "display_data",
          "data": {
            "image/png": "[encoded data removed]",
            "text/plain": [
              "<matplotlib.figure.Figure at 0x7f9908c37e80>"
            ]
          },
          "metadata": {
            "tags": []
          }
        }
      ]
    },
    {
      "metadata": {
        "id": "JmhYUC0No_Pa",
        "colab_type": "text"
      },
      "cell_type": "markdown",
      "source": [
        "## Wide and Deep Model"
      ]
    },
    {
      "metadata": {
        "id": "kQB_qAO6ExNr",
        "colab_type": "code",
        "colab": {
          "base_uri": "https://localhost:8080/",
          "height": 797
        },
        "outputId": "31590a95-7ffb-45d5-fdc4-a87679603f24"
      },
      "cell_type": "code",
      "source": [
        "# meta data\n",
        "num_words = 1000\n",
        "max_len = 50\n",
        "embedding_size = 8\n",
        "aux_input_cols = 9\n",
        "output_cat = 11\n",
        "\n",
        "# unstructured text\n",
        "main_input = Input(shape=(max_len,), name='main_input')\n",
        "\n",
        "x = Embedding(output_dim=embedding_size, input_dim=num_words, input_length=max_len)(main_input)\n",
        "\n",
        "if tensorflow.test.is_gpu_available():\n",
        "  rnnout = CuDNNGRU(32)(x)\n",
        "else:\n",
        "  rnnout = GRU(32, recurrent_activation='relu')(x)\n",
        "\n",
        "auxiliary_output = Dense(output_cat, activation='softmax', name='aux_output')(rnnout)\n",
        "\n",
        "# concat with structured tabular data frame\n",
        "auxiliary_input = Input(shape=(aux_input_cols,), name='aux_input')\n",
        "x = tensorflow.keras.layers.concatenate([rnnout, auxiliary_input])\n",
        "\n",
        "#x = Conv1D(32, 7, activation='relu')(x)\n",
        "#x = GlobalMaxPooling1D()(x)\n",
        "x = Dense(64, activation='relu')(x)\n",
        "x = Dropout(0.2)(x)\n",
        "x = Dense(64, activation='relu')(x)\n",
        "x = Dropout(0.2)(x)\n",
        "#x = Dense(64, activation='relu')(x)\n",
        "#x = Dropout(0.2)(x)\n",
        "\n",
        "# And finally add the main logistic regression layer\n",
        "main_output = Dense(output_cat, activation='softmax', name='main_output')(x)\n",
        "\n",
        "\n",
        "\n",
        "model = Model(inputs=[main_input, auxiliary_input], outputs=[main_output, auxiliary_output])\n",
        "\n",
        "model.compile(optimizer=tensorflow.train.AdamOptimizer(learning_rate=0.00001),\n",
        "              loss={'main_output': 'sparse_categorical_crossentropy', 'aux_output': 'sparse_categorical_crossentropy'},\n",
        "              loss_weights={'main_output': 0.5, 'aux_output': 1},\n",
        "              metrics=['accuracy'])\n",
        "\n",
        "early_stopping = EarlyStopping(monitor='val_aux_output_acc',min_delta=0.001,patience=5,verbose=1)\n",
        "\n",
        "history = model.fit({'main_input': x_train_text,\n",
        "                     'aux_input': x_train_tabular},\n",
        "                    {'main_output': y_train,\n",
        "                     'aux_output': y_train},\n",
        "                    validation_split=0.1, epochs=10, batch_size=128, verbose=1, callbacks=[early_stopping])\n",
        "\n",
        "print(model.summary())"
      ],
      "execution_count": 131,
      "outputs": [
        {
          "output_type": "stream",
          "text": [
            "Epoch 1/10\n",
            "20/20 [==============================] - 1s 56ms/step - loss: 3.6027 - main_output_loss: 2.3992 - aux_output_loss: 2.4031 - main_output_acc: 0.0675 - aux_output_acc: 0.0309 - val_loss: 3.5989 - val_main_output_loss: 2.4016 - val_aux_output_loss: 2.3981 - val_main_output_acc: 0.0218 - val_aux_output_acc: 0.0327\n",
            "Epoch 2/10\n",
            "20/20 [==============================] - 1s 52ms/step - loss: 3.6018 - main_output_loss: 2.3985 - aux_output_loss: 2.4026 - main_output_acc: 0.0819 - aux_output_acc: 0.0325 - val_loss: 3.5984 - val_main_output_loss: 2.4013 - val_aux_output_loss: 2.3977 - val_main_output_acc: 0.0255 - val_aux_output_acc: 0.0145\n",
            "Epoch 3/10\n",
            "20/20 [==============================] - 1s 51ms/step - loss: 3.6011 - main_output_loss: 2.3982 - aux_output_loss: 2.4020 - main_output_acc: 0.0879 - aux_output_acc: 0.0317 - val_loss: 3.5978 - val_main_output_loss: 2.4009 - val_aux_output_loss: 2.3973 - val_main_output_acc: 0.0291 - val_aux_output_acc: 0.0182\n",
            "Epoch 4/10\n",
            "20/20 [==============================] - 1s 51ms/step - loss: 3.6004 - main_output_loss: 2.3978 - aux_output_loss: 2.4015 - main_output_acc: 0.1070 - aux_output_acc: 0.0321 - val_loss: 3.5972 - val_main_output_loss: 2.4005 - val_aux_output_loss: 2.3969 - val_main_output_acc: 0.0836 - val_aux_output_acc: 0.0182\n",
            "Epoch 5/10\n",
            "20/20 [==============================] - 1s 52ms/step - loss: 3.5994 - main_output_loss: 2.3970 - aux_output_loss: 2.4010 - main_output_acc: 0.1260 - aux_output_acc: 0.0353 - val_loss: 3.5966 - val_main_output_loss: 2.4002 - val_aux_output_loss: 2.3965 - val_main_output_acc: 0.1345 - val_aux_output_acc: 0.0182\n",
            "Epoch 6/10\n",
            "20/20 [==============================] - 1s 51ms/step - loss: 3.5986 - main_output_loss: 2.3964 - aux_output_loss: 2.4004 - main_output_acc: 0.1580 - aux_output_acc: 0.0406 - val_loss: 3.5960 - val_main_output_loss: 2.3998 - val_aux_output_loss: 2.3961 - val_main_output_acc: 0.1527 - val_aux_output_acc: 0.0182\n",
            "Epoch 00006: early stopping\n",
            "__________________________________________________________________________________________________\n",
            "Layer (type)                    Output Shape         Param #     Connected to                     \n",
            "==================================================================================================\n",
            "main_input (InputLayer)         (None, 50)           0                                            \n",
            "__________________________________________________________________________________________________\n",
            "embedding_12 (Embedding)        (None, 50, 8)        8000        main_input[0][0]                 \n",
            "__________________________________________________________________________________________________\n",
            "cu_dnngru_6 (CuDNNGRU)          (None, 32)           4032        embedding_12[0][0]               \n",
            "__________________________________________________________________________________________________\n",
            "aux_input (InputLayer)          (None, 9)            0                                            \n",
            "__________________________________________________________________________________________________\n",
            "concatenate_6 (Concatenate)     (None, 41)           0           cu_dnngru_6[0][0]                \n",
            "                                                                 aux_input[0][0]                  \n",
            "__________________________________________________________________________________________________\n",
            "dense_24 (Dense)                (None, 64)           2688        concatenate_6[0][0]              \n",
            "__________________________________________________________________________________________________\n",
            "dropout_12 (Dropout)            (None, 64)           0           dense_24[0][0]                   \n",
            "__________________________________________________________________________________________________\n",
            "dense_25 (Dense)                (None, 64)           4160        dropout_12[0][0]                 \n",
            "__________________________________________________________________________________________________\n",
            "dropout_13 (Dropout)            (None, 64)           0           dense_25[0][0]                   \n",
            "__________________________________________________________________________________________________\n",
            "main_output (Dense)             (None, 11)           715         dropout_13[0][0]                 \n",
            "__________________________________________________________________________________________________\n",
            "aux_output (Dense)              (None, 11)           363         cu_dnngru_6[0][0]                \n",
            "==================================================================================================\n",
            "Total params: 19,958\n",
            "Trainable params: 19,958\n",
            "Non-trainable params: 0\n",
            "__________________________________________________________________________________________________\n",
            "None\n"
          ],
          "name": "stdout"
        }
      ]
    },
    {
      "metadata": {
        "id": "YDPzGufr9_Oy",
        "colab_type": "code",
        "colab": {
          "base_uri": "https://localhost:8080/",
          "height": 1555
        },
        "outputId": "523a53d5-0949-4c6a-efc0-99cd33789c3c"
      },
      "cell_type": "code",
      "source": [
        "preds = model.predict({'main_input': x_train_text,'aux_input': x_train_tabular})\n",
        "pred_result_train = []\n",
        "for i in range(len(x_train_text)):\n",
        "  pred_result_train.append(np.argmax(preds[0][i]))\n",
        "print(\"Pred label on train set:\\n\", stats.itemfreq(pred_result_train))\n",
        "print(\"Pred accuracy on train set: \", sum(1 for x,y in zip(list(np.reshape(y_train,(len(y_train),))),pred_result_train) if x == y) / float(len(pred_result_train)))\n",
        "\n",
        "preds = model.predict({'main_input': x_test_text,'aux_input': x_test_tabular})\n",
        "pred_result_test = []\n",
        "for i in range(len(x_test_text)):\n",
        "  pred_result_test.append(np.argmax(preds[0][i]))\n",
        "print(\"Pred label on test set:\\n\", stats.itemfreq(pred_result_test))\n",
        "print(\"Pred accuracy on test set: \", sum(1 for x,y in zip(list(np.reshape(y_test,(len(y_test),))),pred_result_test) if x == y) / float(len(pred_result_test)))\n",
        "\n",
        "plot_distribution(get_distribution(stats.itemfreq(y_train)),get_distribution(stats.itemfreq(pred_result_train)))\n",
        "plot_distribution(get_distribution(stats.itemfreq(y_test)),get_distribution(stats.itemfreq(pred_result_test)))"
      ],
      "execution_count": 132,
      "outputs": [
        {
          "output_type": "stream",
          "text": [
            "/usr/local/lib/python3.6/dist-packages/ipykernel_launcher.py:5: DeprecationWarning: `itemfreq` is deprecated!\n",
            "`itemfreq` is deprecated and will be removed in a future version. Use instead `np.unique(..., return_counts=True)`\n",
            "  \"\"\"\n",
            "/usr/local/lib/python3.6/dist-packages/ipykernel_launcher.py:12: DeprecationWarning: `itemfreq` is deprecated!\n",
            "`itemfreq` is deprecated and will be removed in a future version. Use instead `np.unique(..., return_counts=True)`\n",
            "  if sys.path[0] == '':\n",
            "/usr/local/lib/python3.6/dist-packages/ipykernel_launcher.py:15: DeprecationWarning: `itemfreq` is deprecated!\n",
            "`itemfreq` is deprecated and will be removed in a future version. Use instead `np.unique(..., return_counts=True)`\n",
            "  from ipykernel import kernelapp as app\n"
          ],
          "name": "stderr"
        },
        {
          "output_type": "stream",
          "text": [
            "Pred label on train set:\n",
            " [[   0   65]\n",
            " [   1   16]\n",
            " [   2    1]\n",
            " [   3   16]\n",
            " [   4  165]\n",
            " [   5    2]\n",
            " [   7 1650]\n",
            " [  10  833]]\n",
            "Pred accuracy on train set:  0.1957787481804949\n",
            "Pred label on test set:\n",
            " [[ 4  8]\n",
            " [ 7 30]\n",
            " [10  2]]\n",
            "Pred accuracy on test set:  0.3\n"
          ],
          "name": "stdout"
        },
        {
          "output_type": "display_data",
          "data": {
            "image/png": "[encoded data removed]",
            "text/plain": [
              "<matplotlib.figure.Figure at 0x7f98ece4cc18>"
            ]
          },
          "metadata": {
            "tags": []
          }
        },
        {
          "output_type": "stream",
          "text": [
            "/usr/local/lib/python3.6/dist-packages/ipykernel_launcher.py:16: DeprecationWarning: `itemfreq` is deprecated!\n",
            "`itemfreq` is deprecated and will be removed in a future version. Use instead `np.unique(..., return_counts=True)`\n",
            "  app.launch_new_instance()\n"
          ],
          "name": "stderr"
        },
        {
          "output_type": "display_data",
          "data": {
            "image/png": "[encoded data removed]",
            "text/plain": [
              "<matplotlib.figure.Figure at 0x7f98ecab3710>"
            ]
          },
          "metadata": {
            "tags": []
          }
        }
      ]
    },
    {
      "metadata": {
        "id": "RgHKuVpd1tAh",
        "colab_type": "text"
      },
      "cell_type": "markdown",
      "source": [
        "## EDA"
      ]
    },
    {
      "metadata": {
        "id": "h8JahsRMBt5B",
        "colab_type": "code",
        "colab": {}
      },
      "cell_type": "code",
      "source": [
        "def plot(df):\n",
        "  \n",
        "  date = df['findexdate']\n",
        "\n",
        "  plt.figure(figsize=(20,8))\n",
        "  plt.plot(date, df['Negative_freq'], 'b-', label='Negative Freq')\n",
        "  plt.plot(date, df['Positive_freq'], 'r-', label='Positive Freq')\n",
        "  plt.plot(date, df['Modal_freq'], 'y-', label='Modal Freq')\n",
        "  plt.plot(date, df['Uncertainty_freq'], 'g-', label='Uncertainty Freq')\n",
        "  plt.plot(date, df['Litigious_freq'], label='Litigious Freq')\n",
        "  plt.plot(date, df['Constraining_freq'], label='Constraining Freq')\n",
        "  plt.plot(date, df['Superfluous_freq'], label='Superfluous Freq')\n",
        "  plt.plot(date, df['Interesting_freq'], label='Interesting Freq')\n",
        "  plt.xticks(rotation=90)\n",
        "  plt.title('Sentiment Frequency')\n",
        "  plt.legend()\n",
        "\n",
        "  plt.figure()\n",
        "\n",
        "  plt.show()"
      ],
      "execution_count": 0,
      "outputs": []
    },
    {
      "metadata": {
        "id": "Y9NHdD-UodUg",
        "colab_type": "text"
      },
      "cell_type": "markdown",
      "source": [
        "## Plotly Frequency"
      ]
    },
    {
      "metadata": {
        "id": "WSwAm41qnYoP",
        "colab_type": "code",
        "outputId": "4c39526a-f6a1-4003-e113-94a492e1bc81",
        "colab": {
          "base_uri": "https://localhost:8080/",
          "height": 546
        }
      },
      "cell_type": "code",
      "source": [
        "# sentiment frequency\n",
        "import plotly\n",
        "import plotly.plotly as py\n",
        "import plotly.graph_objs as go\n",
        "\n",
        "#import scipy\n",
        "#from scipy import signal\n",
        "#signal.savgol_filter\n",
        "\n",
        "plotly.tools.set_credentials_file(username='yunwencai', api_key='9R0DAo2gnrurCju4VJQM')\n",
        "\n",
        "def interactive_plot(moodys,df,company):\n",
        "\n",
        "  # All\n",
        "  negative_freq = go.Scatter(\n",
        "      x = df['findexdate'],\n",
        "      y = df['Negative_freq'],\n",
        "      name = \"Negative Frequency\"\n",
        "  )\n",
        "  positive_freq = go.Scatter(\n",
        "      x = df['findexdate'],\n",
        "      y = df['Positive_freq'],\n",
        "      name = \"Positive Frequency\"\n",
        "  )\n",
        "  modal_freq = go.Scatter(\n",
        "      x = df['findexdate'],\n",
        "      y = df['Modal_freq'],\n",
        "      name = \"Modal Frequency\"\n",
        "  )\n",
        "  uncertainty_freq = go.Scatter(\n",
        "      x = df['findexdate'],\n",
        "      y = df['Uncertainty_freq'],\n",
        "      name = \"Uncertainty Frequency\"\n",
        "  )\n",
        "  litigious_freq = go.Scatter(\n",
        "      x = df['findexdate'],\n",
        "      y = df['Litigious_freq'],\n",
        "      name = \"Litigious Frequency\"\n",
        "  )\n",
        "  constraining_freq = go.Scatter(\n",
        "      x = df['findexdate'],\n",
        "      y = df['Constraining_freq'],\n",
        "      name = \"Constraining Frequency\"\n",
        "  )\n",
        "  superfluous_freq = go.Scatter(\n",
        "      x = df['findexdate'],\n",
        "      y = df['Superfluous_freq'],\n",
        "      name = \"Superfluous Frequency\"\n",
        "  )\n",
        "  interesting_freq = go.Scatter(\n",
        "      x = df['findexdate'],\n",
        "      y = df['Interesting_freq'],\n",
        "      name = \"Interesting Frequency\"\n",
        "  ) \n",
        "  negative_score = go.Scatter(\n",
        "      x = df['findexdate'],\n",
        "      y = df['Negative_score'],\n",
        "      name = \"Negative Score\"\n",
        "  ) \n",
        "  \n",
        "  # 10-K\n",
        "  negative_freq_10k = go.Scatter(\n",
        "      x = df[df['form']=='10-K']['findexdate'],\n",
        "      y = df[df['form']=='10-K']['Negative_freq'],\n",
        "      name = \"Negative Frequency\"\n",
        "  )\n",
        "  positive_freq_10k = go.Scatter(\n",
        "      x = df[df['form']=='10-K']['findexdate'],\n",
        "      y = df[df['form']=='10-K']['Positive_freq'],\n",
        "      name = \"Positive Frequency\"\n",
        "  )\n",
        "  modal_freq_10k = go.Scatter(\n",
        "      x = df[df['form']=='10-K']['findexdate'],\n",
        "      y = df[df['form']=='10-K']['Modal_freq'],\n",
        "      name = \"Modal Frequency\"\n",
        "  )\n",
        "  uncertainty_freq_10k = go.Scatter(\n",
        "      x = df[df['form']=='10-K']['findexdate'],\n",
        "      y = df[df['form']=='10-K']['Uncertainty_freq'],\n",
        "      name = \"Uncertainty Frequency\"\n",
        "  )\n",
        "  litigious_freq_10k = go.Scatter(\n",
        "      x = df[df['form']=='10-K']['findexdate'],\n",
        "      y = df[df['form']=='10-K']['Litigious_freq'],\n",
        "      name = \"Litigious Frequency\"\n",
        "  )\n",
        "  constraining_freq_10k = go.Scatter(\n",
        "      x = df[df['form']=='10-K']['findexdate'],\n",
        "      y = df[df['form']=='10-K']['Constraining_freq'],\n",
        "      name = \"Constraining Frequency\"\n",
        "  )\n",
        "  superfluous_freq_10k = go.Scatter(\n",
        "      x = df[df['form']=='10-K']['findexdate'],\n",
        "      y = df[df['form']=='10-K']['Superfluous_freq'],\n",
        "      name = \"Superfluous Frequency\"\n",
        "  )\n",
        "  interesting_freq_10k = go.Scatter(\n",
        "      x = df[df['form']=='10-K']['findexdate'],\n",
        "      y = df[df['form']=='10-K']['Interesting_freq'],\n",
        "      name = \"Interesting Frequency\"\n",
        "  )\n",
        "  negative_score_10k = go.Scatter(\n",
        "      x = df[df['form']=='10-K']['findexdate'],\n",
        "      y = df[df['form']=='10-K']['Negative_score'],\n",
        "      name = \"Negative Score\"\n",
        "  )\n",
        "  \n",
        "  # 8-K\n",
        "  negative_freq_8k = go.Scatter(\n",
        "      x = df[df['form']=='8-K']['findexdate'],\n",
        "      y = df[df['form']=='8-K']['Negative_freq'],\n",
        "      name = \"Negative Frequency\"\n",
        "  )\n",
        "  positive_freq_8k = go.Scatter(\n",
        "      x = df[df['form']=='8-K']['findexdate'],\n",
        "      y = df[df['form']=='8-K']['Positive_freq'],\n",
        "      name = \"Positive Frequency\"\n",
        "  )\n",
        "  modal_freq_8k = go.Scatter(\n",
        "      x = df[df['form']=='8-K']['findexdate'],\n",
        "      y = df[df['form']=='8-K']['Modal_freq'],\n",
        "      name = \"Modal Frequency\"\n",
        "  )\n",
        "  uncertainty_freq_8k = go.Scatter(\n",
        "      x = df[df['form']=='8-K']['findexdate'],\n",
        "      y = df[df['form']=='8-K']['Uncertainty_freq'],\n",
        "      name = \"Uncertainty Frequency\"\n",
        "  )\n",
        "  litigious_freq_8k = go.Scatter(\n",
        "      x = df[df['form']=='8-K']['findexdate'],\n",
        "      y = df[df['form']=='8-K']['Litigious_freq'],\n",
        "      name = \"Litigious Frequency\"\n",
        "  )\n",
        "  constraining_freq_8k = go.Scatter(\n",
        "      x = df[df['form']=='8-K']['findexdate'],\n",
        "      y = df[df['form']=='8-K']['Constraining_freq'],\n",
        "      name = \"Constraining Frequency\"\n",
        "  )\n",
        "  superfluous_freq_8k = go.Scatter(\n",
        "      x = df[df['form']=='8-K']['findexdate'],\n",
        "      y = df[df['form']=='8-K']['Superfluous_freq'],\n",
        "      name = \"Superfluous Frequency\"\n",
        "  )\n",
        "  interesting_freq_8k = go.Scatter(\n",
        "      x = df[df['form']=='8-K']['findexdate'],\n",
        "      y = df[df['form']=='8-K']['Interesting_freq'],\n",
        "      name = \"Interesting Frequency\"\n",
        "  )\n",
        "  negative_score_8k = go.Scatter(\n",
        "      x = df[df['form']=='8-K']['findexdate'],\n",
        "      y = df[df['form']=='8-K']['Negative_score'],\n",
        "      name = \"Negative Score\"\n",
        "  )\n",
        "  \n",
        "  # 10-Q\n",
        "  negative_freq_10q = go.Scatter(\n",
        "      x = df[df['form']=='10-Q']['findexdate'],\n",
        "      y = df[df['form']=='10-Q']['Negative_freq'],\n",
        "      name = \"Negative Frequency\"\n",
        "  )\n",
        "  positive_freq_10q = go.Scatter(\n",
        "      x = df[df['form']=='10-Q']['findexdate'],\n",
        "      y = df[df['form']=='10-Q']['Positive_freq'],\n",
        "      name = \"Positive Frequency\"\n",
        "  )\n",
        "  modal_freq_10q = go.Scatter(\n",
        "      x = df[df['form']=='10-Q']['findexdate'],\n",
        "      y = df[df['form']=='10-Q']['Modal_freq'],\n",
        "      name = \"Modal Frequency\"\n",
        "  )\n",
        "  uncertainty_freq_10q = go.Scatter(\n",
        "      x = df[df['form']=='10-Q']['findexdate'],\n",
        "      y = df[df['form']=='10-Q']['Uncertainty_freq'],\n",
        "      name = \"Uncertainty Frequency\"\n",
        "  )\n",
        "  litigious_freq_10q = go.Scatter(\n",
        "      x = df[df['form']=='10-Q']['findexdate'],\n",
        "      y = df[df['form']=='10-Q']['Litigious_freq'],\n",
        "      name = \"Litigious Frequency\"\n",
        "  )\n",
        "  constraining_freq_10q = go.Scatter(\n",
        "      x = df[df['form']=='10-Q']['findexdate'],\n",
        "      y = df[df['form']=='10-Q']['Constraining_freq'],\n",
        "      name = \"Constraining Frequency\"\n",
        "  )\n",
        "  superfluous_freq_10q = go.Scatter(\n",
        "      x = df[df['form']=='10-Q']['findexdate'],\n",
        "      y = df[df['form']=='10-Q']['Superfluous_freq'],\n",
        "      name = \"Superfluous Frequency\"\n",
        "  )\n",
        "  interesting_freq_10q = go.Scatter(\n",
        "      x = df[df['form']=='10-Q']['findexdate'],\n",
        "      y = df[df['form']=='10-Q']['Interesting_freq'],\n",
        "      name = \"Interesting Frequency\"\n",
        "  )\n",
        "  negative_score_10q = go.Scatter(\n",
        "      x = df[df['form']=='10-Q']['findexdate'],\n",
        "      y = df[df['form']=='10-Q']['Negative_score'],\n",
        "      name = \"Negative Score\"\n",
        "  )\n",
        "  \n",
        "  moodys_text = go.Scatter(\n",
        "    x=moodys['Effective Date'],\n",
        "    #y=[df.drop(['Unnamed: 0'],axis=1)._get_numeric_data().max(axis=0).max()]*moodys.shape[0],\n",
        "    y=[0]*moodys.shape[0],\n",
        "    mode='markers+text',\n",
        "    name='Moody\\'s Rating',\n",
        "    text=moodys['Moody\\'s Rating'],\n",
        "    textposition='bottom center',\n",
        "    textfont=dict(\n",
        "        family='sans serif',\n",
        "        size=12,\n",
        "        color='#ff7f0e'\n",
        "    )\n",
        "  )\n",
        "  \n",
        "  layout = dict(\n",
        "    title=company+' Sentiment Frequency',\n",
        "    xaxis=dict(\n",
        "        title='Date',\n",
        "        rangeselector=dict(\n",
        "            buttons=list([\n",
        "                dict(count=1,\n",
        "                     label='1m',\n",
        "                     step='month',\n",
        "                     stepmode='backward'),\n",
        "                dict(count=6,\n",
        "                     label='6m',\n",
        "                     step='month',\n",
        "                     stepmode='backward'),\n",
        "                dict(count=1,\n",
        "                     label='YTD',\n",
        "                     step='year',\n",
        "                     stepmode='backward'),\n",
        "                dict(count=5,\n",
        "                     label='5y',\n",
        "                     step='year',\n",
        "                     stepmode='backward'),\n",
        "                dict(count=10,\n",
        "                     label='10y',\n",
        "                     step='year',\n",
        "                     stepmode='backward'),\n",
        "                dict(step='all')\n",
        "            ])\n",
        "        ),\n",
        "        rangeslider=dict(\n",
        "            visible = True\n",
        "        ),\n",
        "        type='date'\n",
        "    ),\n",
        "    yaxis=dict(title='Frequency')\n",
        "  )\n",
        "  \n",
        "  updatemenus = list([\n",
        "    dict(active=-1,\n",
        "         buttons=list([   \n",
        "            dict(label = 'All Filings',\n",
        "                 method = 'update',\n",
        "                 args = [{'visible': [True, True, True, True, True, True, True, True, True,\n",
        "                                      False, False, False, False, False, False, False, False, False,\n",
        "                                      False, False, False, False, False, False, False, False, False,\n",
        "                                      False, False, False, False, False, False, False, False, False,\n",
        "                                      True]},\n",
        "                         {'title': company+' All Filings'}]),\n",
        "            dict(label = '10-Ks',\n",
        "                 method = 'update',\n",
        "                 args = [{'visible': [False, False, False, False, False, False, False, False, False,\n",
        "                                      True, True, True, True, True, True, True, True, True,\n",
        "                                      False, False, False, False, False, False, False, False, False,\n",
        "                                      False, False, False, False, False, False, False, False, False,\n",
        "                                      True]},\n",
        "                         {'title': company+' 10-Ks'}]),\n",
        "            dict(label = '8-Ks',\n",
        "                 method = 'update',\n",
        "                 args = [{'visible': [False, False, False, False, False, False, False, False, False,\n",
        "                                      False, False, False, False, False, False, False, False, False,\n",
        "                                      True, True, True, True, True, True, True, True, True,\n",
        "                                      False, False, False, False, False, False, False, False, False,\n",
        "                                      True]},\n",
        "                         {'title': company+' 8-Ks'}]),\n",
        "            dict(label = '10-Qs',\n",
        "                 method = 'update',\n",
        "                 args = [{'visible': [False, False, False, False, False, False, False, False, False,\n",
        "                                      False, False, False, False, False, False, False, False, False,\n",
        "                                      False, False, False, False, False, False, False, False, False,\n",
        "                                      True, True, True, True, True, True, True, True, True,\n",
        "                                      True]},\n",
        "                         {'title': company+' 10-Qs'}])\n",
        "        ]),\n",
        "      )\n",
        "  ])\n",
        "  \n",
        "  layout['updatemenus'] = updatemenus\n",
        "\n",
        "  data = [negative_freq, positive_freq, modal_freq, uncertainty_freq,\n",
        "         litigious_freq, constraining_freq, superfluous_freq, interesting_freq,negative_score,\n",
        "         negative_freq_10k, positive_freq_10k, modal_freq_10k, uncertainty_freq_10k,\n",
        "         litigious_freq_10k, constraining_freq_10k, superfluous_freq_10k, interesting_freq_10k,negative_score_10k,\n",
        "         negative_freq_8k, positive_freq_8k, modal_freq_8k, uncertainty_freq_8k,\n",
        "         litigious_freq_8k, constraining_freq_8k, superfluous_freq_8k, interesting_freq_8k,negative_score_8k,\n",
        "         negative_freq_10q, positive_freq_10q, modal_freq_10q, uncertainty_freq_10q,\n",
        "         litigious_freq_10q, constraining_freq_10q, superfluous_freq_10q, interesting_freq_10q,negative_score_10q,\n",
        "         moodys_text]  \n",
        "  fig = dict(data=data, layout=layout)\n",
        "\n",
        "  #plotly.offline.plot(fig, filename='fox_sentiment_analysis.html', auto_open=False)\n",
        "  return py.iplot(fig, filename=company+' Sentiment Frequency')\n",
        "\n",
        "interactive_plot(moodys,sentiment,company)"
      ],
      "execution_count": 0,
      "outputs": [
        {
          "output_type": "execute_result",
          "data": {
            "text/html": [
              "<iframe id=\"igraph\" scrolling=\"no\" style=\"border:none;\" seamless=\"seamless\" src=\"https://plot.ly/~yunwencai/2.embed\" height=\"525px\" width=\"100%\"></iframe>"
            ],
            "text/plain": [
              "<plotly.tools.PlotlyDisplay object>"
            ]
          },
          "metadata": {
            "tags": []
          },
          "execution_count": 61
        }
      ]
    },
    {
      "metadata": {
        "id": "UZbUGLV7itvQ",
        "colab_type": "text"
      },
      "cell_type": "markdown",
      "source": [
        "##Plotly Frequency with Smoothing"
      ]
    },
    {
      "metadata": {
        "id": "m674JTuwnf0V",
        "colab_type": "code",
        "outputId": "b82d7163-9bf4-4bbb-ba1a-5b659f8825ce",
        "colab": {
          "base_uri": "https://localhost:8080/",
          "height": 546
        }
      },
      "cell_type": "code",
      "source": [
        "# sentiment frequency\n",
        "import plotly\n",
        "import plotly.plotly as py\n",
        "import plotly.graph_objs as go\n",
        "\n",
        "import scipy\n",
        "from scipy import signal\n",
        "#signal.savgol_filter\n",
        "\n",
        "plotly.tools.set_credentials_file(username='yunwencai', api_key='9R0DAo2gnrurCju4VJQM')\n",
        "\n",
        "def interactive_plot(moodys,df,company):\n",
        "\n",
        "  # All\n",
        "  negative_freq = go.Scatter(\n",
        "      x = df['findexdate'],\n",
        "      y = signal.savgol_filter(df['Negative_freq'],19,3),\n",
        "      name = \"Negative Frequency\"\n",
        "  )\n",
        "  positive_freq = go.Scatter(\n",
        "      x = df['findexdate'],\n",
        "      y = signal.savgol_filter(df['Positive_freq'],19,3),\n",
        "      name = \"Positive Frequency\"\n",
        "  )\n",
        "  modal_freq = go.Scatter(\n",
        "      x = df['findexdate'],\n",
        "      y = signal.savgol_filter(df['Modal_freq'],19,3),\n",
        "      name = \"Modal Frequency\"\n",
        "  )\n",
        "  uncertainty_freq = go.Scatter(\n",
        "      x = df['findexdate'],\n",
        "      y = signal.savgol_filter(df['Uncertainty_freq'],19,3),\n",
        "      name = \"Uncertainty Frequency\"\n",
        "  )\n",
        "  litigious_freq = go.Scatter(\n",
        "      x = df['findexdate'],\n",
        "      y = signal.savgol_filter(df['Litigious_freq'],19,3),\n",
        "      name = \"Litigious Frequency\"\n",
        "  )\n",
        "  constraining_freq = go.Scatter(\n",
        "      x = df['findexdate'],\n",
        "      y = signal.savgol_filter(df['Constraining_freq'],19,3),\n",
        "      name = \"Constraining Frequency\"\n",
        "  )\n",
        "  superfluous_freq = go.Scatter(\n",
        "      x = df['findexdate'],\n",
        "      y = signal.savgol_filter(df['Superfluous_freq'],19,3),\n",
        "      name = \"Superfluous Frequency\"\n",
        "  )\n",
        "  interesting_freq = go.Scatter(\n",
        "      x = df['findexdate'],\n",
        "      y = signal.savgol_filter(df['Interesting_freq'],19,3),\n",
        "      name = \"Interesting Frequency\"\n",
        "  ) \n",
        "  negative_score = go.Scatter(\n",
        "      x = df['findexdate'],\n",
        "      y = signal.savgol_filter(df['Negative_score'],19,3),\n",
        "      name = \"Negative Score\"\n",
        "  ) \n",
        "  \n",
        "  # 10-K\n",
        "  negative_freq_10k = go.Scatter(\n",
        "      x = df[df['form']=='10-K']['findexdate'],\n",
        "      y = df[df['form']=='10-K']['Negative_freq'],\n",
        "      name = \"Negative Frequency\"\n",
        "  )\n",
        "  positive_freq_10k = go.Scatter(\n",
        "      x = df[df['form']=='10-K']['findexdate'],\n",
        "      y = df[df['form']=='10-K']['Positive_freq'],\n",
        "      name = \"Positive Frequency\"\n",
        "  )\n",
        "  modal_freq_10k = go.Scatter(\n",
        "      x = df[df['form']=='10-K']['findexdate'],\n",
        "      y = df[df['form']=='10-K']['Modal_freq'],\n",
        "      name = \"Modal Frequency\"\n",
        "  )\n",
        "  uncertainty_freq_10k = go.Scatter(\n",
        "      x = df[df['form']=='10-K']['findexdate'],\n",
        "      y = df[df['form']=='10-K']['Uncertainty_freq'],\n",
        "      name = \"Uncertainty Frequency\"\n",
        "  )\n",
        "  litigious_freq_10k = go.Scatter(\n",
        "      x = df[df['form']=='10-K']['findexdate'],\n",
        "      y = df[df['form']=='10-K']['Litigious_freq'],\n",
        "      name = \"Litigious Frequency\"\n",
        "  )\n",
        "  constraining_freq_10k = go.Scatter(\n",
        "      x = df[df['form']=='10-K']['findexdate'],\n",
        "      y = df[df['form']=='10-K']['Constraining_freq'],\n",
        "      name = \"Constraining Frequency\"\n",
        "  )\n",
        "  superfluous_freq_10k = go.Scatter(\n",
        "      x = df[df['form']=='10-K']['findexdate'],\n",
        "      y = df[df['form']=='10-K']['Superfluous_freq'],\n",
        "      name = \"Superfluous Frequency\"\n",
        "  )\n",
        "  interesting_freq_10k = go.Scatter(\n",
        "      x = df[df['form']=='10-K']['findexdate'],\n",
        "      y = df[df['form']=='10-K']['Interesting_freq'],\n",
        "      name = \"Interesting Frequency\"\n",
        "  )\n",
        "  negative_score_10k = go.Scatter(\n",
        "      x = df[df['form']=='10-K']['findexdate'],\n",
        "      y = df[df['form']=='10-K']['Negative_score'],\n",
        "      name = \"Negative Score\"\n",
        "  )\n",
        "  \n",
        "  # 8-K\n",
        "  negative_freq_8k = go.Scatter(\n",
        "      x = df[df['form']=='8-K']['findexdate'],\n",
        "      y = signal.savgol_filter(df[df['form']=='8-K']['Negative_freq'],19,3),\n",
        "      name = \"Negative Frequency\"\n",
        "  )\n",
        "  positive_freq_8k = go.Scatter(\n",
        "      x = df[df['form']=='8-K']['findexdate'],\n",
        "      y = signal.savgol_filter(df[df['form']=='8-K']['Positive_freq'],19,3),\n",
        "      name = \"Positive Frequency\"\n",
        "  )\n",
        "  modal_freq_8k = go.Scatter(\n",
        "      x = df[df['form']=='8-K']['findexdate'],\n",
        "      y = signal.savgol_filter(df[df['form']=='8-K']['Modal_freq'],19,3),\n",
        "      name = \"Modal Frequency\"\n",
        "  )\n",
        "  uncertainty_freq_8k = go.Scatter(\n",
        "      x = df[df['form']=='8-K']['findexdate'],\n",
        "      y = signal.savgol_filter(df[df['form']=='8-K']['Uncertainty_freq'],19,3),\n",
        "      name = \"Uncertainty Frequency\"\n",
        "  )\n",
        "  litigious_freq_8k = go.Scatter(\n",
        "      x = df[df['form']=='8-K']['findexdate'],\n",
        "      y = signal.savgol_filter(df[df['form']=='8-K']['Litigious_freq'],19,3),\n",
        "      name = \"Litigious Frequency\"\n",
        "  )\n",
        "  constraining_freq_8k = go.Scatter(\n",
        "      x = df[df['form']=='8-K']['findexdate'],\n",
        "      y = signal.savgol_filter(df[df['form']=='8-K']['Constraining_freq'],19,3),\n",
        "      name = \"Constraining Frequency\"\n",
        "  )\n",
        "  superfluous_freq_8k = go.Scatter(\n",
        "      x = df[df['form']=='8-K']['findexdate'],\n",
        "      y = signal.savgol_filter(df[df['form']=='8-K']['Superfluous_freq'],19,3),\n",
        "      name = \"Superfluous Frequency\"\n",
        "  )\n",
        "  interesting_freq_8k = go.Scatter(\n",
        "      x = df[df['form']=='8-K']['findexdate'],\n",
        "      y = signal.savgol_filter(df[df['form']=='8-K']['Interesting_freq'],19,3),\n",
        "      name = \"Interesting Frequency\"\n",
        "  )\n",
        "  negative_score_8k = go.Scatter(\n",
        "      x = df[df['form']=='8-K']['findexdate'],\n",
        "      y = signal.savgol_filter(df[df['form']=='8-K']['Negative_score'],19,3),\n",
        "      name = \"Negative Score\"\n",
        "  )\n",
        "  \n",
        "  # 10-Q\n",
        "  negative_freq_10q = go.Scatter(\n",
        "      x = df[df['form']=='10-Q']['findexdate'],\n",
        "      y = signal.savgol_filter(df[df['form']=='10-Q']['Negative_freq'],19,3),\n",
        "      name = \"Negative Frequency\"\n",
        "  )\n",
        "  positive_freq_10q = go.Scatter(\n",
        "      x = df[df['form']=='10-Q']['findexdate'],\n",
        "      y = signal.savgol_filter(df[df['form']=='10-Q']['Positive_freq'],19,3),\n",
        "      name = \"Positive Frequency\"\n",
        "  )\n",
        "  modal_freq_10q = go.Scatter(\n",
        "      x = df[df['form']=='10-Q']['findexdate'],\n",
        "      y = signal.savgol_filter(df[df['form']=='10-Q']['Modal_freq'],19,3),\n",
        "      name = \"Modal Frequency\"\n",
        "  )\n",
        "  uncertainty_freq_10q = go.Scatter(\n",
        "      x = df[df['form']=='10-Q']['findexdate'],\n",
        "      y = signal.savgol_filter(df[df['form']=='10-Q']['Uncertainty_freq'],19,3),\n",
        "      name = \"Uncertainty Frequency\"\n",
        "  )\n",
        "  litigious_freq_10q = go.Scatter(\n",
        "      x = df[df['form']=='10-Q']['findexdate'],\n",
        "      y = signal.savgol_filter(df[df['form']=='10-Q']['Litigious_freq'],19,3),\n",
        "      name = \"Litigious Frequency\"\n",
        "  )\n",
        "  constraining_freq_10q = go.Scatter(\n",
        "      x = df[df['form']=='10-Q']['findexdate'],\n",
        "      y = signal.savgol_filter(df[df['form']=='10-Q']['Constraining_freq'],19,3),\n",
        "      name = \"Constraining Frequency\"\n",
        "  )\n",
        "  superfluous_freq_10q = go.Scatter(\n",
        "      x = df[df['form']=='10-Q']['findexdate'],\n",
        "      y = signal.savgol_filter(df[df['form']=='10-Q']['Superfluous_freq'],19,3),\n",
        "      name = \"Superfluous Frequency\"\n",
        "  )\n",
        "  interesting_freq_10q = go.Scatter(\n",
        "      x = df[df['form']=='10-Q']['findexdate'],\n",
        "      y = signal.savgol_filter(df[df['form']=='10-Q']['Interesting_freq'],19,3),\n",
        "      name = \"Interesting Frequency\"\n",
        "  )\n",
        "  negative_score_10q = go.Scatter(\n",
        "      x = df[df['form']=='10-Q']['findexdate'],\n",
        "      y = signal.savgol_filter(df[df['form']=='10-Q']['Negative_score'],19,3),\n",
        "      name = \"Negative Score\"\n",
        "  )\n",
        "  \n",
        "  moodys_text = go.Scatter(\n",
        "    x=moodys['Effective Date'],\n",
        "    #y=[df.drop(['Unnamed: 0'],axis=1)._get_numeric_data().max(axis=0).max()]*moodys.shape[0],\n",
        "    y=[0]*moodys.shape[0],\n",
        "    mode='markers+text',\n",
        "    name='Moody\\'s Rating',\n",
        "    text=moodys['Moody\\'s Rating'],\n",
        "    textposition='bottom center',\n",
        "    textfont=dict(\n",
        "        family='sans serif',\n",
        "        size=12,\n",
        "        color='#ff7f0e'\n",
        "    )\n",
        "  )\n",
        "  \n",
        "  layout = dict(\n",
        "    title=company+' Sentiment Frequency',\n",
        "    xaxis=dict(\n",
        "        title='Date',\n",
        "        rangeselector=dict(\n",
        "            buttons=list([\n",
        "                dict(count=1,\n",
        "                     label='1m',\n",
        "                     step='month',\n",
        "                     stepmode='backward'),\n",
        "                dict(count=6,\n",
        "                     label='6m',\n",
        "                     step='month',\n",
        "                     stepmode='backward'),\n",
        "                dict(count=1,\n",
        "                     label='YTD',\n",
        "                     step='year',\n",
        "                     stepmode='backward'),\n",
        "                dict(count=5,\n",
        "                     label='5y',\n",
        "                     step='year',\n",
        "                     stepmode='backward'),\n",
        "                dict(count=10,\n",
        "                     label='10y',\n",
        "                     step='year',\n",
        "                     stepmode='backward'),\n",
        "                dict(step='all')\n",
        "            ])\n",
        "        ),\n",
        "        rangeslider=dict(\n",
        "            visible = True\n",
        "        ),\n",
        "        type='date'\n",
        "    ),\n",
        "    yaxis=dict(title='Frequency')\n",
        "  )\n",
        "  \n",
        "  updatemenus = list([\n",
        "    dict(active=-1,\n",
        "         buttons=list([   \n",
        "            dict(label = 'All Filings',\n",
        "                 method = 'update',\n",
        "                 args = [{'visible': [True, True, True, True, True, True, True, True, True,\n",
        "                                      False, False, False, False, False, False, False, False, False,\n",
        "                                      False, False, False, False, False, False, False, False, False,\n",
        "                                      False, False, False, False, False, False, False, False, False,\n",
        "                                      True]},\n",
        "                         {'title': company+' All Filings'}]),\n",
        "            dict(label = '10-Ks',\n",
        "                 method = 'update',\n",
        "                 args = [{'visible': [False, False, False, False, False, False, False, False, False,\n",
        "                                      True, True, True, True, True, True, True, True, True,\n",
        "                                      False, False, False, False, False, False, False, False, False,\n",
        "                                      False, False, False, False, False, False, False, False, False,\n",
        "                                      True]},\n",
        "                         {'title': company+' 10-Ks'}]),\n",
        "            dict(label = '8-Ks',\n",
        "                 method = 'update',\n",
        "                 args = [{'visible': [False, False, False, False, False, False, False, False, False,\n",
        "                                      False, False, False, False, False, False, False, False, False,\n",
        "                                      True, True, True, True, True, True, True, True, True,\n",
        "                                      False, False, False, False, False, False, False, False, False,\n",
        "                                      True]},\n",
        "                         {'title': company+' 8-Ks'}]),\n",
        "            dict(label = '10-Qs',\n",
        "                 method = 'update',\n",
        "                 args = [{'visible': [False, False, False, False, False, False, False, False, False,\n",
        "                                      False, False, False, False, False, False, False, False, False,\n",
        "                                      False, False, False, False, False, False, False, False, False,\n",
        "                                      True, True, True, True, True, True, True, True, True,\n",
        "                                      True]},\n",
        "                         {'title': company+' 10-Qs'}])\n",
        "        ]),\n",
        "      )\n",
        "  ])\n",
        "  \n",
        "  layout['updatemenus'] = updatemenus\n",
        "\n",
        "  data = [negative_freq, positive_freq, modal_freq, uncertainty_freq,\n",
        "         litigious_freq, constraining_freq, superfluous_freq, interesting_freq,negative_score,\n",
        "         negative_freq_10k, positive_freq_10k, modal_freq_10k, uncertainty_freq_10k,\n",
        "         litigious_freq_10k, constraining_freq_10k, superfluous_freq_10k, interesting_freq_10k,negative_score_10k,\n",
        "         negative_freq_8k, positive_freq_8k, modal_freq_8k, uncertainty_freq_8k,\n",
        "         litigious_freq_8k, constraining_freq_8k, superfluous_freq_8k, interesting_freq_8k,negative_score_8k,\n",
        "         negative_freq_10q, positive_freq_10q, modal_freq_10q, uncertainty_freq_10q,\n",
        "         litigious_freq_10q, constraining_freq_10q, superfluous_freq_10q, interesting_freq_10q,negative_score_10q,\n",
        "         moodys_text]  \n",
        "  fig = dict(data=data, layout=layout)\n",
        "\n",
        "  #plotly.offline.plot(fig, filename='cbs_sentiment_analysis.html', auto_open=False)\n",
        "  return py.iplot(fig, filename=company+' Sentiment Frequency')\n",
        "\n",
        "interactive_plot(moodys,sentiment,company)"
      ],
      "execution_count": 0,
      "outputs": [
        {
          "output_type": "execute_result",
          "data": {
            "text/html": [
              "<iframe id=\"igraph\" scrolling=\"no\" style=\"border:none;\" seamless=\"seamless\" src=\"https://plot.ly/~yunwencai/14.embed\" height=\"525px\" width=\"100%\"></iframe>"
            ],
            "text/plain": [
              "<plotly.tools.PlotlyDisplay object>"
            ]
          },
          "metadata": {
            "tags": []
          },
          "execution_count": 111
        }
      ]
    },
    {
      "metadata": {
        "id": "8t0tzf7VBp4h",
        "colab_type": "code",
        "outputId": "8dec1495-5d47-4a01-a1b7-3dd82b27e42a",
        "colab": {
          "base_uri": "https://localhost:8080/",
          "height": 35
        }
      },
      "cell_type": "code",
      "source": [
        "#!ls\n",
        "#!mv /content/cbs_sentiment_analysis.html /content/gdrive/My\\ Drive/Colab\\ Notebooks/Capstone/sentiment_frequency_plot_w_smoothing"
      ],
      "execution_count": 0,
      "outputs": [
        {
          "output_type": "stream",
          "text": [
            "cbs_sentiment_analysis.html  gdrive  sample_data\n"
          ],
          "name": "stdout"
        }
      ]
    },
    {
      "metadata": {
        "id": "jH6EYo1hakZH",
        "colab_type": "code",
        "colab": {}
      },
      "cell_type": "code",
      "source": [
        ""
      ],
      "execution_count": 0,
      "outputs": []
    }
  ]
}