{
 "cells": [
  {
   "cell_type": "code",
   "execution_count": 1,
   "metadata": {
    "collapsed": true
   },
   "outputs": [],
   "source": [
    "# -*- coding: utf-8 -*-\n",
    "\"\"\"\n",
    "Created on Oct 20, 2018\n",
    "by olahosa\n",
    "\n",
    "based on jasonweinreb's WSJ scrapper: \n",
    "https://github.com/jweinreb/python-wsj/blob/master/wsj-parser.py\n",
    "\"\"\"\n",
    "\n",
    "import pandas as pd\n",
    "import numpy as np\n",
    "import datetime, re, glob, csv, time\n",
    "from dateutil.parser import parse\n",
    "\n",
    "from selenium import webdriver\n",
    "from selenium.webdriver.common.keys import Keys\n",
    "from selenium.common.exceptions import NoSuchElementException\n",
    "from selenium.webdriver.common.by import By\n",
    "from selenium.webdriver.support.ui import WebDriverWait\n",
    "from selenium.webdriver.support import expected_conditions as EC"
   ]
  },
  {
   "cell_type": "code",
   "execution_count": 2,
   "metadata": {
    "collapsed": true
   },
   "outputs": [],
   "source": [
    "# company of interest\n",
    "comp_name = \"21st Century Fox\"\n",
    "\n",
    "# change to your uni and password here (Columbia login credentials)\n",
    "my_login = 'my_uni'\n",
    "my_password = 'my_Columbia_password'"
   ]
  },
  {
   "cell_type": "markdown",
   "metadata": {},
   "source": [
    "# Get links to desired articles"
   ]
  },
  {
   "cell_type": "code",
   "execution_count": 3,
   "metadata": {
    "collapsed": true
   },
   "outputs": [],
   "source": [
    "def getPageUrl(elementLinks):\n",
    "    extractLinks = []\n",
    "    for element in elementLinks:\n",
    "        links = element.get_attribute('href')\n",
    "        extractLinks.append(links)\n",
    "    return(extractLinks)"
   ]
  },
  {
   "cell_type": "code",
   "execution_count": 4,
   "metadata": {
    "collapsed": true
   },
   "outputs": [],
   "source": [
    "# download 'geckodriver' and provide path to it here\n",
    "browser = webdriver.Firefox(executable_path = '/Users/ola/Desktop/CAP/geckodriver')\n",
    "\n",
    "# loading home url for ProQuest\n",
    "browser.get('https://search-proquest-com.ezproxy.cul.columbia.edu')"
   ]
  },
  {
   "cell_type": "code",
   "execution_count": 5,
   "metadata": {
    "collapsed": true
   },
   "outputs": [],
   "source": [
    "# login credentials\n",
    "loginID = browser.find_element_by_id(\"username\").send_keys(my_login)\n",
    "loginPass = browser.find_element_by_id(\"password\").send_keys(my_password)\n",
    "loginReady = browser.find_element_by_class_name(\"btn-submit\")\n",
    "loginReady.click()"
   ]
  },
  {
   "cell_type": "code",
   "execution_count": 6,
   "metadata": {
    "collapsed": true
   },
   "outputs": [],
   "source": [
    "# DO SELECTIONS MANUALLY in Advanced search\n",
    "\n",
    "# - enter company name\n",
    "# - seleft 'Full text'\n",
    "# - Source type: select 'Historical Newspapers' and 'Newspapers'\n",
    "# - Language: select 'English'\n",
    "# - More options: Items per page - select 100; exclude duplicates\n",
    "# - click 'Search'\n",
    "\n",
    "# - Publication date: select desired range (enter range when company existed under name)\n",
    "# - Location - select all variations of US, e.g. USA, United Sstates etc.\n",
    "# - enter 'Company/Organization' - the same as company name (select all name variations)\n",
    "# - (Optional) Publication title (e.g. WSJ) - or don't select for all news"
   ]
  },
  {
   "cell_type": "code",
   "execution_count": 6,
   "metadata": {},
   "outputs": [
    {
     "data": {
      "text/plain": [
       "26"
      ]
     },
     "execution_count": 6,
     "metadata": {},
     "output_type": "execute_result"
    }
   ],
   "source": [
    "# get results count\n",
    "results = browser.find_element_by_xpath('//div[@class=\"resultsPageSpecific\"]').text\n",
    "results = results.split(' ')\n",
    "resultCount = int(results[2].replace(',',''))\n",
    "resultCount"
   ]
  },
  {
   "cell_type": "code",
   "execution_count": 7,
   "metadata": {},
   "outputs": [
    {
     "data": {
      "text/plain": [
       "1"
      ]
     },
     "execution_count": 7,
     "metadata": {},
     "output_type": "execute_result"
    }
   ],
   "source": [
    "# get page count\n",
    "pageCount = resultCount//100 + 1\n",
    "pageCount"
   ]
  },
  {
   "cell_type": "code",
   "execution_count": 8,
   "metadata": {},
   "outputs": [
    {
     "name": "stdout",
     "output_type": "stream",
     "text": [
      "1/1, "
     ]
    }
   ],
   "source": [
    "# extract all article urls\n",
    "articleLinks = []\n",
    "\n",
    "count = 0\n",
    "bad = 0\n",
    "\n",
    "for i in range(0, pageCount):\n",
    "    elementLinks = browser.find_elements_by_xpath('//*[@id=\"citationDocTitleLink\"]')\n",
    "    for j in range(100):\n",
    "        if count < resultCount:\n",
    "            bub = '(//a[@id=\"citationDocTitleLink\"])['+str(j+1)+']'\n",
    "            try:\n",
    "                elementLink = browser.find_elements_by_xpath(bub)\n",
    "                link = getPageUrl(elementLink)\n",
    "                articleLinks.append(link[0])\n",
    "            # skip artickes wit bad links\n",
    "            except:\n",
    "                print('\\n', bad, 'bad link - article skipped')\n",
    "                bad += 1\n",
    "            count += 1\n",
    "        \n",
    "    print(str(i+1) + '/' + str(pageCount), end=', ')\n",
    "    try:\n",
    "        browser.find_element_by_xpath('//a[@title=\"Next page\"]').click()\n",
    "    except NoSuchElementException:\n",
    "        pass"
   ]
  },
  {
   "cell_type": "code",
   "execution_count": 9,
   "metadata": {},
   "outputs": [
    {
     "name": "stdout",
     "output_type": "stream",
     "text": [
      "26\n"
     ]
    }
   ],
   "source": [
    "# how many articles?\n",
    "print(len(articleLinks))"
   ]
  },
  {
   "cell_type": "code",
   "execution_count": 10,
   "metadata": {
    "collapsed": true
   },
   "outputs": [],
   "source": [
    "# save links to csv\n",
    "out_file = comp_name+'_ProQuest_urls.csv'\n",
    "\n",
    "with open(out_file, \"w\") as csvfile:\n",
    "    writer = csv.writer(csvfile, delimiter= \",\")\n",
    "    hdr = ['articleLink']\n",
    "    writer.writerow(hdr)\n",
    "    for link in articleLinks:\n",
    "        entry = [link] \n",
    "        writer.writerow(entry)"
   ]
  },
  {
   "cell_type": "markdown",
   "metadata": {},
   "source": [
    "# Download articles"
   ]
  },
  {
   "cell_type": "code",
   "execution_count": 11,
   "metadata": {
    "collapsed": true
   },
   "outputs": [],
   "source": [
    "# read the lisk of links to download\n",
    "out_file = comp_name+'_ProQuest_urls.csv'\n",
    "df = pd.read_csv(out_file)"
   ]
  },
  {
   "cell_type": "code",
   "execution_count": 12,
   "metadata": {},
   "outputs": [
    {
     "data": {
      "text/html": [
       "<div>\n",
       "<style>\n",
       "    .dataframe thead tr:only-child th {\n",
       "        text-align: right;\n",
       "    }\n",
       "\n",
       "    .dataframe thead th {\n",
       "        text-align: left;\n",
       "    }\n",
       "\n",
       "    .dataframe tbody tr th {\n",
       "        vertical-align: top;\n",
       "    }\n",
       "</style>\n",
       "<table border=\"1\" class=\"dataframe\">\n",
       "  <thead>\n",
       "    <tr style=\"text-align: right;\">\n",
       "      <th></th>\n",
       "      <th>articleLink</th>\n",
       "    </tr>\n",
       "  </thead>\n",
       "  <tbody>\n",
       "    <tr>\n",
       "      <th>21</th>\n",
       "      <td>https://search-proquest-com.ezproxy.cul.columb...</td>\n",
       "    </tr>\n",
       "    <tr>\n",
       "      <th>22</th>\n",
       "      <td>https://search-proquest-com.ezproxy.cul.columb...</td>\n",
       "    </tr>\n",
       "    <tr>\n",
       "      <th>23</th>\n",
       "      <td>https://search-proquest-com.ezproxy.cul.columb...</td>\n",
       "    </tr>\n",
       "    <tr>\n",
       "      <th>24</th>\n",
       "      <td>https://search-proquest-com.ezproxy.cul.columb...</td>\n",
       "    </tr>\n",
       "    <tr>\n",
       "      <th>25</th>\n",
       "      <td>https://search-proquest-com.ezproxy.cul.columb...</td>\n",
       "    </tr>\n",
       "  </tbody>\n",
       "</table>\n",
       "</div>"
      ],
      "text/plain": [
       "                                          articleLink\n",
       "21  https://search-proquest-com.ezproxy.cul.columb...\n",
       "22  https://search-proquest-com.ezproxy.cul.columb...\n",
       "23  https://search-proquest-com.ezproxy.cul.columb...\n",
       "24  https://search-proquest-com.ezproxy.cul.columb...\n",
       "25  https://search-proquest-com.ezproxy.cul.columb..."
      ]
     },
     "execution_count": 12,
     "metadata": {},
     "output_type": "execute_result"
    }
   ],
   "source": [
    "df.tail()"
   ]
  },
  {
   "cell_type": "code",
   "execution_count": 13,
   "metadata": {
    "collapsed": true
   },
   "outputs": [],
   "source": [
    "# function to recognize a date in a string\n",
    "def is_date(string):\n",
    "    try: \n",
    "        parse(string)\n",
    "        return True\n",
    "    except ValueError:\n",
    "        return False\n",
    "\n",
    "# get a dte from a string\n",
    "def get_date_from_string(string):\n",
    "    final_date = datetime.datetime.strptime('10 10 1000', '%d %m %Y')\n",
    "    for i in range(len(string)):\n",
    "        for j in range(15):\n",
    "            if is_date(string[i:i+j]):\n",
    "                try:\n",
    "                    date = datetime.datetime.strptime(string[i:i+j], '%d %b %Y')\n",
    "                    if final_date == datetime.datetime.strptime('10 10 1000', '%d %m %Y'):\n",
    "                        final_date = date\n",
    "                    else:\n",
    "                        pass\n",
    "                except ValueError:\n",
    "                    pass\n",
    "                \n",
    "                try:\n",
    "                    date = datetime.datetime.strptime(string[i:i+j], '%d %B %Y')\n",
    "                    if final_date == datetime.datetime.strptime('10 10 1000', '%d %m %Y'):\n",
    "                        final_date = date\n",
    "                    else:\n",
    "                        pass\n",
    "                except ValueError:\n",
    "                    pass                \n",
    "    return final_date"
   ]
  },
  {
   "cell_type": "code",
   "execution_count": 14,
   "metadata": {
    "collapsed": true
   },
   "outputs": [],
   "source": [
    "# scrape article\n",
    "def scrape(articles, browser, i):\n",
    "    browser.get(df.articleLink.iloc[i])\n",
    "    \n",
    "    title = browser.find_element_by_id(\"documentTitle\").text\n",
    "    \n",
    "    # get abstract if exists, if not save empty\n",
    "    try:\n",
    "        abstract = browser.find_element_by_class_name(\"abstract\").text\n",
    "    except NoSuchElementException:\n",
    "        abstract = ''\n",
    "        \n",
    "    try:\n",
    "        text = browser.find_element_by_id('fullTextZoneId').text\n",
    "    except NoSuchElementException:\n",
    "        text = browser.find_element_by_css_selector('body').text\n",
    "\n",
    "    details = browser.find_elements_by_xpath('//span[@class=\"titleAuthorETC\"]')\n",
    "    details = details[1].text\n",
    "\n",
    "    date = get_date_from_string(details)\n",
    "#     print(date, ', ', title)\n",
    "\n",
    "    articles[i] = {}\n",
    "\n",
    "    articles[i][\"title\"] = title\n",
    "    articles[i][\"abstract\"] = abstract\n",
    "    articles[i][\"text\"] = text\n",
    "    articles[i][\"date\"] = date"
   ]
  },
  {
   "cell_type": "code",
   "execution_count": 15,
   "metadata": {
    "collapsed": true
   },
   "outputs": [],
   "source": [
    "# get to the url\n",
    "browser = webdriver.Firefox(executable_path = '/Users/ola/Desktop/CAP/geckodriver')\n",
    "browser.get('https://search-proquest-com.ezproxy.cul.columbia.edu')\n",
    "loginID = browser.find_element_by_id(\"username\").send_keys(my_login)\n",
    "loginPass = browser.find_element_by_id(\"password\").send_keys(my_password)\n",
    "loginReady = browser.find_element_by_class_name(\"btn-submit\")\n",
    "loginReady.click()"
   ]
  },
  {
   "cell_type": "code",
   "execution_count": 16,
   "metadata": {},
   "outputs": [
    {
     "name": "stdout",
     "output_type": "stream",
     "text": [
      "0, 1, 2, 3, 4, 5, 6, 7, 8, 9, 10, 11, 12, 13, 14, 15, 16, 17, 18, 19, 20, 21, 22, 23, 24, 25, "
     ]
    }
   ],
   "source": [
    "# download articles\n",
    "articles = dict()\n",
    "\n",
    "for i in range(df.shape[0]):\n",
    "    print(i, end=', ')\n",
    "\n",
    "    success = 0\n",
    "    while success == 0:\n",
    "        try:\n",
    "            scrape(articles, browser, i)\n",
    "            success = 1\n",
    "        # if you encounter a captcha: wait 5 seconds and open another browser\n",
    "        except NoSuchElementException:\n",
    "            print('catptcha - I sleep')\n",
    "            time.sleep(5)\n",
    "            \n",
    "            browser.close() \n",
    "            \n",
    "            browser = webdriver.Firefox(executable_path = '/Users/ola/Desktop/CAP/geckodriver')\n",
    "            browser.get('https://search-proquest-com.ezproxy.cul.columbia.edu')\n",
    "            \n",
    "            loginID = browser.find_element_by_id(\"username\").send_keys(my_login)\n",
    "            loginPass = browser.find_element_by_id(\"password\").send_keys(my_password)\n",
    "            loginReady = browser.find_element_by_class_name(\"btn-submit\")\n",
    "            loginReady.click()"
   ]
  },
  {
   "cell_type": "code",
   "execution_count": 17,
   "metadata": {},
   "outputs": [
    {
     "data": {
      "text/html": [
       "<div>\n",
       "<style>\n",
       "    .dataframe thead tr:only-child th {\n",
       "        text-align: right;\n",
       "    }\n",
       "\n",
       "    .dataframe thead th {\n",
       "        text-align: left;\n",
       "    }\n",
       "\n",
       "    .dataframe tbody tr th {\n",
       "        vertical-align: top;\n",
       "    }\n",
       "</style>\n",
       "<table border=\"1\" class=\"dataframe\">\n",
       "  <thead>\n",
       "    <tr style=\"text-align: right;\">\n",
       "      <th></th>\n",
       "      <th>index</th>\n",
       "      <th>title</th>\n",
       "      <th>abstract</th>\n",
       "      <th>text</th>\n",
       "      <th>date</th>\n",
       "    </tr>\n",
       "  </thead>\n",
       "  <tbody>\n",
       "    <tr>\n",
       "      <th>0</th>\n",
       "      <td>0</td>\n",
       "      <td>What skills will Tesla’s new chairman need to ...</td>\n",
       "      <td></td>\n",
       "      <td>Elon Musk has a lot of titles: Chief executive...</td>\n",
       "      <td>2018-10-14</td>\n",
       "    </tr>\n",
       "    <tr>\n",
       "      <th>1</th>\n",
       "      <td>1</td>\n",
       "      <td>Sky CEO's €15m deal windfall: BRIEFS</td>\n",
       "      <td></td>\n",
       "      <td>÷ SKY CEO Jeremy Darroch has pocketed £13.4m (...</td>\n",
       "      <td>2018-10-14</td>\n",
       "    </tr>\n",
       "    <tr>\n",
       "      <th>2</th>\n",
       "      <td>2</td>\n",
       "      <td>TV streaming giant casts its net ever wider: T...</td>\n",
       "      <td></td>\n",
       "      <td>Last week, reports emerged of what may be the ...</td>\n",
       "      <td>2018-10-14</td>\n",
       "    </tr>\n",
       "    <tr>\n",
       "      <th>3</th>\n",
       "      <td>3</td>\n",
       "      <td>Foxtel's 'critical' year: News Corp has Plan B</td>\n",
       "      <td>On a recent trip to the US, Goldman Sachs anal...</td>\n",
       "      <td>News Corporation could cut its losses and sell...</td>\n",
       "      <td>2018-10-15</td>\n",
       "    </tr>\n",
       "    <tr>\n",
       "      <th>4</th>\n",
       "      <td>4</td>\n",
       "      <td>Direct streaming and Fox assets loom large for...</td>\n",
       "      <td></td>\n",
       "      <td>Between the pending $US71.3 billion ingestion ...</td>\n",
       "      <td>2018-10-15</td>\n",
       "    </tr>\n",
       "    <tr>\n",
       "      <th>5</th>\n",
       "      <td>5</td>\n",
       "      <td>The Walt Disney Company Announces Amendments t...</td>\n",
       "      <td></td>\n",
       "      <td>The Walt Disney Co. issued the following news ...</td>\n",
       "      <td>2018-10-15</td>\n",
       "    </tr>\n",
       "    <tr>\n",
       "      <th>6</th>\n",
       "      <td>6</td>\n",
       "      <td>Bank of America Is Missing Out on Wall Street'...</td>\n",
       "      <td></td>\n",
       "      <td>Bank of America Corp.'s purchase of Merrill Ly...</td>\n",
       "      <td>2018-10-15</td>\n",
       "    </tr>\n",
       "    <tr>\n",
       "      <th>7</th>\n",
       "      <td>7</td>\n",
       "      <td>After Years on the Right, Dennis Miller Wants ...</td>\n",
       "      <td></td>\n",
       "      <td>In his stand-up comedy special, \"Fake News, Re...</td>\n",
       "      <td>2018-10-15</td>\n",
       "    </tr>\n",
       "    <tr>\n",
       "      <th>8</th>\n",
       "      <td>8</td>\n",
       "      <td>Venom wins box office, boosts Sony superhero s...</td>\n",
       "      <td></td>\n",
       "      <td>Venom, a character from the comic-book world o...</td>\n",
       "      <td>2018-10-16</td>\n",
       "    </tr>\n",
       "    <tr>\n",
       "      <th>9</th>\n",
       "      <td>9</td>\n",
       "      <td>Elon Musk fraud settlement approved by US judge</td>\n",
       "      <td></td>\n",
       "      <td>Elon Musk’s settlement with a US regulator has...</td>\n",
       "      <td>2018-10-16</td>\n",
       "    </tr>\n",
       "    <tr>\n",
       "      <th>10</th>\n",
       "      <td>10</td>\n",
       "      <td>Venom wins box office again, boosting Sony sup...</td>\n",
       "      <td></td>\n",
       "      <td>Venom, a character from the comic-book world o...</td>\n",
       "      <td>2018-10-16</td>\n",
       "    </tr>\n",
       "    <tr>\n",
       "      <th>11</th>\n",
       "      <td>11</td>\n",
       "      <td>Life &amp; Arts -- Arts: Dennis Miller Wants a Pol...</td>\n",
       "      <td></td>\n",
       "      <td>In his stand-up comedy special, \"Fake News, Re...</td>\n",
       "      <td>2018-10-16</td>\n",
       "    </tr>\n",
       "    <tr>\n",
       "      <th>12</th>\n",
       "      <td>12</td>\n",
       "      <td>Can U.S.-China Tensions Derail Two Big Deals? ...</td>\n",
       "      <td></td>\n",
       "      <td>When the world's top two economies face off, i...</td>\n",
       "      <td>2018-10-17</td>\n",
       "    </tr>\n",
       "    <tr>\n",
       "      <th>13</th>\n",
       "      <td>13</td>\n",
       "      <td>Highly influential, low profile Why Eddington ...</td>\n",
       "      <td></td>\n",
       "      <td>Welcome to The Big Interview, a new series fro...</td>\n",
       "      <td>2018-10-18</td>\n",
       "    </tr>\n",
       "    <tr>\n",
       "      <th>14</th>\n",
       "      <td>14</td>\n",
       "      <td>Seven odd man out but for long?: Analysis</td>\n",
       "      <td></td>\n",
       "      <td>As Australia's commercial TV industry enters i...</td>\n",
       "      <td>2018-10-18</td>\n",
       "    </tr>\n",
       "    <tr>\n",
       "      <th>15</th>\n",
       "      <td>15</td>\n",
       "      <td>Highly influential, low profile Why Eddington ...</td>\n",
       "      <td></td>\n",
       "      <td>Welcome to The Big Interview, a new series fro...</td>\n",
       "      <td>2018-10-18</td>\n",
       "    </tr>\n",
       "    <tr>\n",
       "      <th>16</th>\n",
       "      <td>16</td>\n",
       "      <td>Seven odd man out but for long?</td>\n",
       "      <td></td>\n",
       "      <td>As Australia's commercial TV industry enters i...</td>\n",
       "      <td>2018-10-18</td>\n",
       "    </tr>\n",
       "    <tr>\n",
       "      <th>17</th>\n",
       "      <td>17</td>\n",
       "      <td>Netflix results show power of its model</td>\n",
       "      <td></td>\n",
       "      <td>NETFLIX has managed to pull off the double axl...</td>\n",
       "      <td>2018-10-18</td>\n",
       "    </tr>\n",
       "    <tr>\n",
       "      <th>18</th>\n",
       "      <td>18</td>\n",
       "      <td>Highly influential, low profile: THE BIG INTER...</td>\n",
       "      <td></td>\n",
       "      <td>Welcome to The Big Interview, a new series fro...</td>\n",
       "      <td>2018-10-18</td>\n",
       "    </tr>\n",
       "    <tr>\n",
       "      <th>19</th>\n",
       "      <td>19</td>\n",
       "      <td>Seven odd man out but for long?: ANALYSIS</td>\n",
       "      <td></td>\n",
       "      <td>As Australia's commercial TV industry enters i...</td>\n",
       "      <td>2018-10-18</td>\n",
       "    </tr>\n",
       "    <tr>\n",
       "      <th>20</th>\n",
       "      <td>20</td>\n",
       "      <td>The Walt Disney Company Announces Additions to...</td>\n",
       "      <td></td>\n",
       "      <td>The Walt Disney Co. issued the following news ...</td>\n",
       "      <td>2018-10-18</td>\n",
       "    </tr>\n",
       "    <tr>\n",
       "      <th>21</th>\n",
       "      <td>21</td>\n",
       "      <td>In the Wake of Khashoggi’s Disappearance, Saud...</td>\n",
       "      <td></td>\n",
       "      <td>By Dexter Filkins – The New Yorker\\nMohammed b...</td>\n",
       "      <td>2018-10-18</td>\n",
       "    </tr>\n",
       "    <tr>\n",
       "      <th>22</th>\n",
       "      <td>22</td>\n",
       "      <td>Disney to retain many of Fox's film executives...</td>\n",
       "      <td></td>\n",
       "      <td>Walt Disney Co. will preserve much of the mana...</td>\n",
       "      <td>2018-10-19</td>\n",
       "    </tr>\n",
       "    <tr>\n",
       "      <th>23</th>\n",
       "      <td>23</td>\n",
       "      <td>Trump Hardens Saudi Stance After Days of Mixed...</td>\n",
       "      <td></td>\n",
       "      <td>Corrections &amp; Amplifications\\nSaudi Crown Prin...</td>\n",
       "      <td>2018-10-19</td>\n",
       "    </tr>\n",
       "    <tr>\n",
       "      <th>24</th>\n",
       "      <td>24</td>\n",
       "      <td>Trump Hardens Saudi Stance --- The shift follo...</td>\n",
       "      <td></td>\n",
       "      <td>WASHINGTON -- President Trump said that a prom...</td>\n",
       "      <td>2018-10-19</td>\n",
       "    </tr>\n",
       "    <tr>\n",
       "      <th>25</th>\n",
       "      <td>25</td>\n",
       "      <td>Inside the windowless bunker where Disney stor...</td>\n",
       "      <td></td>\n",
       "      <td>The Walt Disney Animation Research Library, wh...</td>\n",
       "      <td>2018-10-20</td>\n",
       "    </tr>\n",
       "  </tbody>\n",
       "</table>\n",
       "</div>"
      ],
      "text/plain": [
       "    index                                              title  \\\n",
       "0       0  What skills will Tesla’s new chairman need to ...   \n",
       "1       1               Sky CEO's €15m deal windfall: BRIEFS   \n",
       "2       2  TV streaming giant casts its net ever wider: T...   \n",
       "3       3     Foxtel's 'critical' year: News Corp has Plan B   \n",
       "4       4  Direct streaming and Fox assets loom large for...   \n",
       "5       5  The Walt Disney Company Announces Amendments t...   \n",
       "6       6  Bank of America Is Missing Out on Wall Street'...   \n",
       "7       7  After Years on the Right, Dennis Miller Wants ...   \n",
       "8       8  Venom wins box office, boosts Sony superhero s...   \n",
       "9       9    Elon Musk fraud settlement approved by US judge   \n",
       "10     10  Venom wins box office again, boosting Sony sup...   \n",
       "11     11  Life & Arts -- Arts: Dennis Miller Wants a Pol...   \n",
       "12     12  Can U.S.-China Tensions Derail Two Big Deals? ...   \n",
       "13     13  Highly influential, low profile Why Eddington ...   \n",
       "14     14          Seven odd man out but for long?: Analysis   \n",
       "15     15  Highly influential, low profile Why Eddington ...   \n",
       "16     16                    Seven odd man out but for long?   \n",
       "17     17            Netflix results show power of its model   \n",
       "18     18  Highly influential, low profile: THE BIG INTER...   \n",
       "19     19          Seven odd man out but for long?: ANALYSIS   \n",
       "20     20  The Walt Disney Company Announces Additions to...   \n",
       "21     21  In the Wake of Khashoggi’s Disappearance, Saud...   \n",
       "22     22  Disney to retain many of Fox's film executives...   \n",
       "23     23  Trump Hardens Saudi Stance After Days of Mixed...   \n",
       "24     24  Trump Hardens Saudi Stance --- The shift follo...   \n",
       "25     25  Inside the windowless bunker where Disney stor...   \n",
       "\n",
       "                                             abstract  \\\n",
       "0                                                       \n",
       "1                                                       \n",
       "2                                                       \n",
       "3   On a recent trip to the US, Goldman Sachs anal...   \n",
       "4                                                       \n",
       "5                                                       \n",
       "6                                                       \n",
       "7                                                       \n",
       "8                                                       \n",
       "9                                                       \n",
       "10                                                      \n",
       "11                                                      \n",
       "12                                                      \n",
       "13                                                      \n",
       "14                                                      \n",
       "15                                                      \n",
       "16                                                      \n",
       "17                                                      \n",
       "18                                                      \n",
       "19                                                      \n",
       "20                                                      \n",
       "21                                                      \n",
       "22                                                      \n",
       "23                                                      \n",
       "24                                                      \n",
       "25                                                      \n",
       "\n",
       "                                                 text       date  \n",
       "0   Elon Musk has a lot of titles: Chief executive... 2018-10-14  \n",
       "1   ÷ SKY CEO Jeremy Darroch has pocketed £13.4m (... 2018-10-14  \n",
       "2   Last week, reports emerged of what may be the ... 2018-10-14  \n",
       "3   News Corporation could cut its losses and sell... 2018-10-15  \n",
       "4   Between the pending $US71.3 billion ingestion ... 2018-10-15  \n",
       "5   The Walt Disney Co. issued the following news ... 2018-10-15  \n",
       "6   Bank of America Corp.'s purchase of Merrill Ly... 2018-10-15  \n",
       "7   In his stand-up comedy special, \"Fake News, Re... 2018-10-15  \n",
       "8   Venom, a character from the comic-book world o... 2018-10-16  \n",
       "9   Elon Musk’s settlement with a US regulator has... 2018-10-16  \n",
       "10  Venom, a character from the comic-book world o... 2018-10-16  \n",
       "11  In his stand-up comedy special, \"Fake News, Re... 2018-10-16  \n",
       "12  When the world's top two economies face off, i... 2018-10-17  \n",
       "13  Welcome to The Big Interview, a new series fro... 2018-10-18  \n",
       "14  As Australia's commercial TV industry enters i... 2018-10-18  \n",
       "15  Welcome to The Big Interview, a new series fro... 2018-10-18  \n",
       "16  As Australia's commercial TV industry enters i... 2018-10-18  \n",
       "17  NETFLIX has managed to pull off the double axl... 2018-10-18  \n",
       "18  Welcome to The Big Interview, a new series fro... 2018-10-18  \n",
       "19  As Australia's commercial TV industry enters i... 2018-10-18  \n",
       "20  The Walt Disney Co. issued the following news ... 2018-10-18  \n",
       "21  By Dexter Filkins – The New Yorker\\nMohammed b... 2018-10-18  \n",
       "22  Walt Disney Co. will preserve much of the mana... 2018-10-19  \n",
       "23  Corrections & Amplifications\\nSaudi Crown Prin... 2018-10-19  \n",
       "24  WASHINGTON -- President Trump said that a prom... 2018-10-19  \n",
       "25  The Walt Disney Animation Research Library, wh... 2018-10-20  "
      ]
     },
     "execution_count": 17,
     "metadata": {},
     "output_type": "execute_result"
    }
   ],
   "source": [
    "# save dict as pd dataframe\n",
    "df_art = pd.DataFrame.from_dict(articles, orient='index')\n",
    "df_art = df_art.sort_values(by='date')\n",
    "df_art.reset_index(inplace=True)\n",
    "\n",
    "# save dataframe as csv\n",
    "out_file2 = comp_name+'_ProQuest_scrape.csv'\n",
    "df_art.to_csv(out_file2)\n",
    "\n",
    "df_art"
   ]
  },
  {
   "cell_type": "markdown",
   "metadata": {},
   "source": [
    "# Some checks"
   ]
  },
  {
   "cell_type": "code",
   "execution_count": 18,
   "metadata": {
    "collapsed": true
   },
   "outputs": [],
   "source": [
    "df_try = pd.read_csv(out_file2)"
   ]
  },
  {
   "cell_type": "code",
   "execution_count": 19,
   "metadata": {},
   "outputs": [
    {
     "name": "stdout",
     "output_type": "stream",
     "text": [
      "Last week, reports emerged of what may be the world's first case of Netflix addiction. A 26-year-old man in Bangalore, India, checked himself into a clinic claiming he had suffered fatigue and eye strain through months of compulsive binge-watching.\n",
      "It is something many of us could relate to. The video-streaming behemoth, which has had hit after hit with glossy TV shows such as Stranger Things and Orange is the New Black, has eaten up so many hours of subscribers' lives that there is seemingly little time left in the evening for it to conquer.\n",
      "Reed Hastings, Netflix's chief executive, is fond of saying many users only tune out when it is well past bedtime. \"You get a show or a movie you're really dying to watch, and you end up staying up late at night,\" Hastings said last year. \"We actually compete with sleep. And we're winning!\"\n",
      "Winning is something Netflix is used to. The company, founded as a DVD rental service 21 years ago (it only started letting users watch shows over the internet in 2007 and it was not until 2011 that streaming contributed the majority of revenue) has taken a seemingly unassailable lead in the online TV market.\n",
      "In the UK, 28pc of people say they have used the service in the last month. The company's subscribers watch an average of 50 minutes of Netflix a day, and the service accounts for 15pc of the world's internet traffic, more than any other service.\n",
      "Among younger viewers, Netflix simply is TV: surveys show that more 12 to 15-year-olds in Britain have heard of it than BBC One.\n",
      "The Queer Eye-maker has also been a sensational stock-market story. Shares have multiplied a hundredfold in the last 10 years, a return closer to Bitcoin than for a company of its size. This year, it briefly surpassed Disney as the world's biggest media company.\n",
      "The company's extraordinary rise, and investors' belief in it, can be traced to two moments. The first was March 2011, when the company that had long relied on licensing TV companies' shows ventured into original programming, buying the rights to the political thriller House of Cards. Its catalogue has swelled to hundreds of titles. The second came in 2016, when overnight the service was switched on in every country around the world, bar a couple of exceptions (it is not available in China, although it retains ambitions there, or Crimea, Syria and North Korea due to US sanctions).\n",
      "It catapulted Netflix from a streaming company into a worldwide service akin to Facebook or Google, with a potential market of billions. \"You are witnessing the birth of a global TV network,\" Hastings said at the time.\n",
      "\"In a very short period of time, Netflix has become a global brand,\" says Paolo Pescatore, an independent tech and media analyst. \"It is the first truly global subscription video-on-demand provider.\"\n",
      "Much of the world is still to be conquered. It was only this year that the number of people who subscribe to Netflix outside the US surpassed those in its home country. Its 130m paying customers represent a fraction of the market.\n",
      "But some detect signs that Netflix's rise to greatness is far from guaranteed. \"I don't believe the future is as bright and rosy as people think,\" says Pescatore.\n",
      "Netflix is often grouped in a cluster of giant tech companies - the \"FANGs\", along with Facebook, Amazon and Google's parent company Alphabet - that have come to symbolise the tech boom. All four are valued far higher than one would expect given their profits, but Netflix is a special case. Its $142bn (£107bn) valuation is 56 times 2020's forecast earnings. The next closest is Amazon, at 47 times future earnings; Facebook and Alphabet sit around 20 times. Netflix investors are relying on many years of breakneck growth, as is the company. It has embarked on a stunning investment in content since its original bet on House of Cards, and are still up 70pc this year. \"I don't think anyone at Netflix is watching stock-market moves,\" says Rich Greenfield, an analyst at BTIG Research.\n",
      "More concerning could be the threat the company faces as technology and media companies charge up rival services. Amazon's Prime Video service is growing rapidly, and the company has shown itself to be just as willing to spend heavily, if not more so. Amazon is using video to encourage people to sign up for its delivery subscription service Prime, so is under less pressure to make money from it.\n",
      "To date, Amazon and Netflix have coexisted peacefully - many households are happy to take two internet TV services - but what about three, or four? Apple has spent years gearing up for a push into on-demand video, and while its plans remain closely guarded, rumours suggest it is preparing to offer its shows for free to those who buy its hardware.\n",
      "The biggest challenge may lie in committed to paying $18.4bn over the next five years, a sum that is expected to continue to rise.\n",
      "Operating profits are still relatively low, and the company is burning through cash - up to $4bn this year alone - so the company relies on borrowing to fuel its huge investment in original material. Long-term debt has trebled in the last three years, from $2.4bn to $8.3bn in June. It has been cheap and easy, too. In April, the company borrowed another $1.9bn in its biggest financing ever.\n",
      "In other words, Netflix's stockmarket boom over the last few years has been accompanied by a cycle of higher growth, more spending and cheap borrowing. That is fine, and the company has delivered. But the slightest sign that things are not going to plan meets a tumultuous reaction.\n",
      "In July, the company's shares slumped after Netflix slightly missed investors' growth expectations. Subscriber numbers grew by 5.2m in the second quarter of the year - an impressive figure, but a million below forecasts - leading shares to drop by 14pc. It predicted growth would be slower in the third quarter and will reveal results on Tuesday.\n",
      "A rout of tech-company shares last week hit Netflix particularly hard. Rising yields from government bonds threaten to push up the company's cost of borrowing. It was with tricky timing, then, that David Wells, the chief financial officer, announced he was leaving after eight years.\n",
      "Netflix shares have now fallen by a fifth since their peak in July, although after their meteoric previous rise, they Disney, however. The media giant handed Netflix a huge boost six years ago when it inked a deal with the company in an age where streaming was still tiny, but last year it vowed to pull its material and launch its own by the end of 2019. Fresh from its acquisition of 21st Century Fox, it boasts a formidable library of material, from Star Wars to the Marvel superhero empire, and has promised to beat Netflix on price. Last week, WarnerMedia, the AT&T-owned media giant behind the American network HBO, announced plans to build its own streaming service. \"The market's already looking very crowded from a subscription point,\" says Richard Broughton, of Ampere Analysis.\n",
      "But while none of the entrants are likely to topple Netflix, they could hamper its growth. Broughton says that if subscriber growth starts to slow down, investors' focus will shift to how much it is able to raise prices.\n",
      "The company has increased the prices it charges subscribers - the most expensive package in the UK costs almost double what it did when it launched in Britain - but not enough to keep up with production bills.\n",
      "Content costs will continue to rise, especially in Europe, where the EU is set to demand almost a third of the catalogue being produced locally.\n",
      "Broughton estimates the company could easily increase the cost of its subscriptions by 50pc without losing too many customers, given its success in raising prices to date.\n",
      "Such a move is unlikely to be popular. It may also be the test of just how addictive Netflix can be.\n",
      "28pc Proportion of UK population who say they have used Netflix in the last month. Subscribers watch an average of 50 minutes a day 130m The number of Netflix's paying customers around the world. The service was switched on in nearly every country in 2016'The market's already looking very crowded from a subscription point of view''In a short period of time, Netflix has become a global brand. It is the first truly global subscription video-ondemand provider'\n",
      "Word count: 1416\n"
     ]
    }
   ],
   "source": [
    "print(df_try.text.iloc[2])"
   ]
  },
  {
   "cell_type": "code",
   "execution_count": 20,
   "metadata": {},
   "outputs": [
    {
     "data": {
      "text/plain": [
       "0     2018-10-14\n",
       "1     2018-10-14\n",
       "2     2018-10-14\n",
       "3     2018-10-15\n",
       "4     2018-10-15\n",
       "5     2018-10-15\n",
       "6     2018-10-15\n",
       "7     2018-10-15\n",
       "8     2018-10-16\n",
       "9     2018-10-16\n",
       "10    2018-10-16\n",
       "11    2018-10-16\n",
       "12    2018-10-17\n",
       "13    2018-10-18\n",
       "14    2018-10-18\n",
       "15    2018-10-18\n",
       "16    2018-10-18\n",
       "17    2018-10-18\n",
       "18    2018-10-18\n",
       "19    2018-10-18\n",
       "20    2018-10-18\n",
       "21    2018-10-18\n",
       "22    2018-10-19\n",
       "23    2018-10-19\n",
       "24    2018-10-19\n",
       "25    2018-10-20\n",
       "Name: date, dtype: object"
      ]
     },
     "execution_count": 20,
     "metadata": {},
     "output_type": "execute_result"
    }
   ],
   "source": [
    "df_try.date"
   ]
  },
  {
   "cell_type": "code",
   "execution_count": null,
   "metadata": {
    "collapsed": true
   },
   "outputs": [],
   "source": []
  }
 ],
 "metadata": {
  "kernelspec": {
   "display_name": "Python 3",
   "language": "python",
   "name": "python3"
  },
  "language_info": {
   "codemirror_mode": {
    "name": "ipython",
    "version": 3
   },
   "file_extension": ".py",
   "mimetype": "text/x-python",
   "name": "python",
   "nbconvert_exporter": "python",
   "pygments_lexer": "ipython3",
   "version": "3.6.3"
  }
 },
 "nbformat": 4,
 "nbformat_minor": 2
}
